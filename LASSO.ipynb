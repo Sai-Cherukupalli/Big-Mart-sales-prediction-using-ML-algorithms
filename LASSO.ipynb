{
 "cells": [
  {
   "cell_type": "markdown",
   "id": "79fb0ce0",
   "metadata": {},
   "source": [
    "IMPORTING THE REQUIRED LIBRARIES"
   ]
  },
  {
   "cell_type": "code",
   "execution_count": 1,
   "id": "b51fb250",
   "metadata": {},
   "outputs": [],
   "source": [
    "import numpy as np\n",
    "import pandas as pd\n",
    "import matplotlib.pyplot as plt\n",
    "import seaborn as sns\n",
    "from sklearn.model_selection import train_test_split\n",
    "from sklearn.linear_model import LinearRegression"
   ]
  },
  {
   "cell_type": "markdown",
   "id": "944c45a0",
   "metadata": {},
   "source": [
    "IMPORTING THE FILE"
   ]
  },
  {
   "cell_type": "code",
   "execution_count": 2,
   "id": "8f572e5f",
   "metadata": {
    "scrolled": true
   },
   "outputs": [
    {
     "data": {
      "text/plain": [
       "(8523, 12)"
      ]
     },
     "execution_count": 2,
     "metadata": {},
     "output_type": "execute_result"
    }
   ],
   "source": [
    "df=pd.read_csv('Train.csv')\n",
    "df.shape"
   ]
  },
  {
   "cell_type": "code",
   "execution_count": 3,
   "id": "7aab3f11",
   "metadata": {},
   "outputs": [
    {
     "name": "stdout",
     "output_type": "stream",
     "text": [
      "<class 'pandas.core.frame.DataFrame'>\n",
      "RangeIndex: 8523 entries, 0 to 8522\n",
      "Data columns (total 12 columns):\n",
      " #   Column                     Non-Null Count  Dtype  \n",
      "---  ------                     --------------  -----  \n",
      " 0   Item_Identifier            8523 non-null   object \n",
      " 1   Item_Weight                7060 non-null   float64\n",
      " 2   Item_Fat_Content           8523 non-null   object \n",
      " 3   Item_Visibility            8523 non-null   float64\n",
      " 4   Item_Type                  8523 non-null   object \n",
      " 5   Item_MRP                   8523 non-null   float64\n",
      " 6   Outlet_Identifier          8523 non-null   object \n",
      " 7   Outlet_Establishment_Year  8523 non-null   int64  \n",
      " 8   Outlet_Size                6113 non-null   object \n",
      " 9   Outlet_Location_Type       8523 non-null   object \n",
      " 10  Outlet_Type                8523 non-null   object \n",
      " 11  Item_Outlet_Sales          8523 non-null   float64\n",
      "dtypes: float64(4), int64(1), object(7)\n",
      "memory usage: 799.2+ KB\n"
     ]
    }
   ],
   "source": [
    "df.info()"
   ]
  },
  {
   "cell_type": "code",
   "execution_count": 4,
   "id": "7a3dbdd1",
   "metadata": {},
   "outputs": [
    {
     "data": {
      "text/html": [
       "<div>\n",
       "<style scoped>\n",
       "    .dataframe tbody tr th:only-of-type {\n",
       "        vertical-align: middle;\n",
       "    }\n",
       "\n",
       "    .dataframe tbody tr th {\n",
       "        vertical-align: top;\n",
       "    }\n",
       "\n",
       "    .dataframe thead th {\n",
       "        text-align: right;\n",
       "    }\n",
       "</style>\n",
       "<table border=\"1\" class=\"dataframe\">\n",
       "  <thead>\n",
       "    <tr style=\"text-align: right;\">\n",
       "      <th></th>\n",
       "      <th>Item_Identifier</th>\n",
       "      <th>Item_Weight</th>\n",
       "      <th>Item_Fat_Content</th>\n",
       "      <th>Item_Visibility</th>\n",
       "      <th>Item_Type</th>\n",
       "      <th>Item_MRP</th>\n",
       "      <th>Outlet_Identifier</th>\n",
       "      <th>Outlet_Establishment_Year</th>\n",
       "      <th>Outlet_Size</th>\n",
       "      <th>Outlet_Location_Type</th>\n",
       "      <th>Outlet_Type</th>\n",
       "      <th>Item_Outlet_Sales</th>\n",
       "    </tr>\n",
       "  </thead>\n",
       "  <tbody>\n",
       "    <tr>\n",
       "      <th>0</th>\n",
       "      <td>FDA15</td>\n",
       "      <td>9.30</td>\n",
       "      <td>Low Fat</td>\n",
       "      <td>0.016047</td>\n",
       "      <td>Dairy</td>\n",
       "      <td>249.8092</td>\n",
       "      <td>OUT049</td>\n",
       "      <td>1999</td>\n",
       "      <td>Medium</td>\n",
       "      <td>Tier 1</td>\n",
       "      <td>Supermarket Type1</td>\n",
       "      <td>3735.1380</td>\n",
       "    </tr>\n",
       "    <tr>\n",
       "      <th>1</th>\n",
       "      <td>DRC01</td>\n",
       "      <td>5.92</td>\n",
       "      <td>Regular</td>\n",
       "      <td>0.019278</td>\n",
       "      <td>Soft Drinks</td>\n",
       "      <td>48.2692</td>\n",
       "      <td>OUT018</td>\n",
       "      <td>2009</td>\n",
       "      <td>Medium</td>\n",
       "      <td>Tier 3</td>\n",
       "      <td>Supermarket Type2</td>\n",
       "      <td>443.4228</td>\n",
       "    </tr>\n",
       "    <tr>\n",
       "      <th>2</th>\n",
       "      <td>FDN15</td>\n",
       "      <td>17.50</td>\n",
       "      <td>Low Fat</td>\n",
       "      <td>0.016760</td>\n",
       "      <td>Meat</td>\n",
       "      <td>141.6180</td>\n",
       "      <td>OUT049</td>\n",
       "      <td>1999</td>\n",
       "      <td>Medium</td>\n",
       "      <td>Tier 1</td>\n",
       "      <td>Supermarket Type1</td>\n",
       "      <td>2097.2700</td>\n",
       "    </tr>\n",
       "    <tr>\n",
       "      <th>3</th>\n",
       "      <td>FDX07</td>\n",
       "      <td>19.20</td>\n",
       "      <td>Regular</td>\n",
       "      <td>0.000000</td>\n",
       "      <td>Fruits and Vegetables</td>\n",
       "      <td>182.0950</td>\n",
       "      <td>OUT010</td>\n",
       "      <td>1998</td>\n",
       "      <td>NaN</td>\n",
       "      <td>Tier 3</td>\n",
       "      <td>Grocery Store</td>\n",
       "      <td>732.3800</td>\n",
       "    </tr>\n",
       "    <tr>\n",
       "      <th>4</th>\n",
       "      <td>NCD19</td>\n",
       "      <td>8.93</td>\n",
       "      <td>Low Fat</td>\n",
       "      <td>0.000000</td>\n",
       "      <td>Household</td>\n",
       "      <td>53.8614</td>\n",
       "      <td>OUT013</td>\n",
       "      <td>1987</td>\n",
       "      <td>High</td>\n",
       "      <td>Tier 3</td>\n",
       "      <td>Supermarket Type1</td>\n",
       "      <td>994.7052</td>\n",
       "    </tr>\n",
       "  </tbody>\n",
       "</table>\n",
       "</div>"
      ],
      "text/plain": [
       "  Item_Identifier  Item_Weight Item_Fat_Content  Item_Visibility  \\\n",
       "0           FDA15         9.30          Low Fat         0.016047   \n",
       "1           DRC01         5.92          Regular         0.019278   \n",
       "2           FDN15        17.50          Low Fat         0.016760   \n",
       "3           FDX07        19.20          Regular         0.000000   \n",
       "4           NCD19         8.93          Low Fat         0.000000   \n",
       "\n",
       "               Item_Type  Item_MRP Outlet_Identifier  \\\n",
       "0                  Dairy  249.8092            OUT049   \n",
       "1            Soft Drinks   48.2692            OUT018   \n",
       "2                   Meat  141.6180            OUT049   \n",
       "3  Fruits and Vegetables  182.0950            OUT010   \n",
       "4              Household   53.8614            OUT013   \n",
       "\n",
       "   Outlet_Establishment_Year Outlet_Size Outlet_Location_Type  \\\n",
       "0                       1999      Medium               Tier 1   \n",
       "1                       2009      Medium               Tier 3   \n",
       "2                       1999      Medium               Tier 1   \n",
       "3                       1998         NaN               Tier 3   \n",
       "4                       1987        High               Tier 3   \n",
       "\n",
       "         Outlet_Type  Item_Outlet_Sales  \n",
       "0  Supermarket Type1          3735.1380  \n",
       "1  Supermarket Type2           443.4228  \n",
       "2  Supermarket Type1          2097.2700  \n",
       "3      Grocery Store           732.3800  \n",
       "4  Supermarket Type1           994.7052  "
      ]
     },
     "execution_count": 4,
     "metadata": {},
     "output_type": "execute_result"
    }
   ],
   "source": [
    "df.head()"
   ]
  },
  {
   "cell_type": "code",
   "execution_count": 5,
   "id": "b35432f6",
   "metadata": {},
   "outputs": [
    {
     "data": {
      "text/html": [
       "<div>\n",
       "<style scoped>\n",
       "    .dataframe tbody tr th:only-of-type {\n",
       "        vertical-align: middle;\n",
       "    }\n",
       "\n",
       "    .dataframe tbody tr th {\n",
       "        vertical-align: top;\n",
       "    }\n",
       "\n",
       "    .dataframe thead th {\n",
       "        text-align: right;\n",
       "    }\n",
       "</style>\n",
       "<table border=\"1\" class=\"dataframe\">\n",
       "  <thead>\n",
       "    <tr style=\"text-align: right;\">\n",
       "      <th></th>\n",
       "      <th>Item_Identifier</th>\n",
       "      <th>Item_Weight</th>\n",
       "      <th>Item_Fat_Content</th>\n",
       "      <th>Item_Visibility</th>\n",
       "      <th>Item_Type</th>\n",
       "      <th>Item_MRP</th>\n",
       "      <th>Outlet_Identifier</th>\n",
       "      <th>Outlet_Establishment_Year</th>\n",
       "      <th>Outlet_Size</th>\n",
       "      <th>Outlet_Location_Type</th>\n",
       "      <th>Outlet_Type</th>\n",
       "      <th>Item_Outlet_Sales</th>\n",
       "    </tr>\n",
       "  </thead>\n",
       "  <tbody>\n",
       "    <tr>\n",
       "      <th>0</th>\n",
       "      <td>FDA15</td>\n",
       "      <td>9.30</td>\n",
       "      <td>Low Fat</td>\n",
       "      <td>0.016047</td>\n",
       "      <td>Dairy</td>\n",
       "      <td>249.8092</td>\n",
       "      <td>OUT049</td>\n",
       "      <td>1999</td>\n",
       "      <td>Medium</td>\n",
       "      <td>Tier 1</td>\n",
       "      <td>Supermarket Type1</td>\n",
       "      <td>3735.1380</td>\n",
       "    </tr>\n",
       "    <tr>\n",
       "      <th>1</th>\n",
       "      <td>DRC01</td>\n",
       "      <td>5.92</td>\n",
       "      <td>Regular</td>\n",
       "      <td>0.019278</td>\n",
       "      <td>Soft Drinks</td>\n",
       "      <td>48.2692</td>\n",
       "      <td>OUT018</td>\n",
       "      <td>2009</td>\n",
       "      <td>Medium</td>\n",
       "      <td>Tier 3</td>\n",
       "      <td>Supermarket Type2</td>\n",
       "      <td>443.4228</td>\n",
       "    </tr>\n",
       "    <tr>\n",
       "      <th>2</th>\n",
       "      <td>FDN15</td>\n",
       "      <td>17.50</td>\n",
       "      <td>Low Fat</td>\n",
       "      <td>0.016760</td>\n",
       "      <td>Meat</td>\n",
       "      <td>141.6180</td>\n",
       "      <td>OUT049</td>\n",
       "      <td>1999</td>\n",
       "      <td>Medium</td>\n",
       "      <td>Tier 1</td>\n",
       "      <td>Supermarket Type1</td>\n",
       "      <td>2097.2700</td>\n",
       "    </tr>\n",
       "    <tr>\n",
       "      <th>3</th>\n",
       "      <td>FDX07</td>\n",
       "      <td>19.20</td>\n",
       "      <td>Regular</td>\n",
       "      <td>0.000000</td>\n",
       "      <td>Fruits and Vegetables</td>\n",
       "      <td>182.0950</td>\n",
       "      <td>OUT010</td>\n",
       "      <td>1998</td>\n",
       "      <td>NaN</td>\n",
       "      <td>Tier 3</td>\n",
       "      <td>Grocery Store</td>\n",
       "      <td>732.3800</td>\n",
       "    </tr>\n",
       "    <tr>\n",
       "      <th>4</th>\n",
       "      <td>NCD19</td>\n",
       "      <td>8.93</td>\n",
       "      <td>Low Fat</td>\n",
       "      <td>0.000000</td>\n",
       "      <td>Household</td>\n",
       "      <td>53.8614</td>\n",
       "      <td>OUT013</td>\n",
       "      <td>1987</td>\n",
       "      <td>High</td>\n",
       "      <td>Tier 3</td>\n",
       "      <td>Supermarket Type1</td>\n",
       "      <td>994.7052</td>\n",
       "    </tr>\n",
       "  </tbody>\n",
       "</table>\n",
       "</div>"
      ],
      "text/plain": [
       "  Item_Identifier  Item_Weight Item_Fat_Content  Item_Visibility  \\\n",
       "0           FDA15         9.30          Low Fat         0.016047   \n",
       "1           DRC01         5.92          Regular         0.019278   \n",
       "2           FDN15        17.50          Low Fat         0.016760   \n",
       "3           FDX07        19.20          Regular         0.000000   \n",
       "4           NCD19         8.93          Low Fat         0.000000   \n",
       "\n",
       "               Item_Type  Item_MRP Outlet_Identifier  \\\n",
       "0                  Dairy  249.8092            OUT049   \n",
       "1            Soft Drinks   48.2692            OUT018   \n",
       "2                   Meat  141.6180            OUT049   \n",
       "3  Fruits and Vegetables  182.0950            OUT010   \n",
       "4              Household   53.8614            OUT013   \n",
       "\n",
       "   Outlet_Establishment_Year Outlet_Size Outlet_Location_Type  \\\n",
       "0                       1999      Medium               Tier 1   \n",
       "1                       2009      Medium               Tier 3   \n",
       "2                       1999      Medium               Tier 1   \n",
       "3                       1998         NaN               Tier 3   \n",
       "4                       1987        High               Tier 3   \n",
       "\n",
       "         Outlet_Type  Item_Outlet_Sales  \n",
       "0  Supermarket Type1          3735.1380  \n",
       "1  Supermarket Type2           443.4228  \n",
       "2  Supermarket Type1          2097.2700  \n",
       "3      Grocery Store           732.3800  \n",
       "4  Supermarket Type1           994.7052  "
      ]
     },
     "execution_count": 5,
     "metadata": {},
     "output_type": "execute_result"
    }
   ],
   "source": [
    "df.head()"
   ]
  },
  {
   "cell_type": "code",
   "execution_count": 6,
   "id": "c46b0891",
   "metadata": {},
   "outputs": [
    {
     "data": {
      "text/plain": [
       "Item_Identifier                 0\n",
       "Item_Weight                  1463\n",
       "Item_Fat_Content                0\n",
       "Item_Visibility                 0\n",
       "Item_Type                       0\n",
       "Item_MRP                        0\n",
       "Outlet_Identifier               0\n",
       "Outlet_Establishment_Year       0\n",
       "Outlet_Size                  2410\n",
       "Outlet_Location_Type            0\n",
       "Outlet_Type                     0\n",
       "Item_Outlet_Sales               0\n",
       "dtype: int64"
      ]
     },
     "execution_count": 6,
     "metadata": {},
     "output_type": "execute_result"
    }
   ],
   "source": [
    "df.isnull().sum()"
   ]
  },
  {
   "cell_type": "code",
   "execution_count": 7,
   "id": "420d4bea",
   "metadata": {},
   "outputs": [],
   "source": [
    "df1=df.copy()"
   ]
  },
  {
   "cell_type": "markdown",
   "id": "05ce971d",
   "metadata": {},
   "source": [
    "IMPUTING THE NULL VALUES WITH MEAN"
   ]
  },
  {
   "cell_type": "code",
   "execution_count": 8,
   "id": "5c300e8f",
   "metadata": {},
   "outputs": [
    {
     "data": {
      "text/plain": [
       "12.857645184135976"
      ]
     },
     "execution_count": 8,
     "metadata": {},
     "output_type": "execute_result"
    }
   ],
   "source": [
    "df1['Item_Weight'].mean()"
   ]
  },
  {
   "cell_type": "code",
   "execution_count": 9,
   "id": "169c9a6b",
   "metadata": {},
   "outputs": [],
   "source": [
    "df1['Item_Weight']=df1['Item_Weight'].replace(np.NaN,df1['Item_Weight'].mean())"
   ]
  },
  {
   "cell_type": "code",
   "execution_count": 10,
   "id": "9508f10e",
   "metadata": {
    "scrolled": true
   },
   "outputs": [
    {
     "data": {
      "text/plain": [
       "0        9.300\n",
       "1        5.920\n",
       "2       17.500\n",
       "3       19.200\n",
       "4        8.930\n",
       "         ...  \n",
       "8518     6.865\n",
       "8519     8.380\n",
       "8520    10.600\n",
       "8521     7.210\n",
       "8522    14.800\n",
       "Name: Item_Weight, Length: 8523, dtype: float64"
      ]
     },
     "execution_count": 10,
     "metadata": {},
     "output_type": "execute_result"
    }
   ],
   "source": [
    "df1['Item_Weight']"
   ]
  },
  {
   "cell_type": "code",
   "execution_count": null,
   "id": "0064474d",
   "metadata": {},
   "outputs": [],
   "source": [
    "IMPUTING THE NULL VALUES WITH MEDIAN"
   ]
  },
  {
   "cell_type": "code",
   "execution_count": 11,
   "id": "4689dc7a",
   "metadata": {},
   "outputs": [
    {
     "data": {
      "text/plain": [
       "Medium    2793\n",
       "Small     2388\n",
       "High       932\n",
       "Name: Outlet_Size, dtype: int64"
      ]
     },
     "execution_count": 11,
     "metadata": {},
     "output_type": "execute_result"
    }
   ],
   "source": [
    "df1.Outlet_Size.value_counts()"
   ]
  },
  {
   "cell_type": "code",
   "execution_count": 12,
   "id": "de432714",
   "metadata": {},
   "outputs": [],
   "source": [
    "df1['Outlet_Size']=df1['Outlet_Size'].fillna('Medium')"
   ]
  },
  {
   "cell_type": "code",
   "execution_count": 13,
   "id": "1cee0db4",
   "metadata": {},
   "outputs": [
    {
     "data": {
      "text/plain": [
       "0       Medium\n",
       "1       Medium\n",
       "2       Medium\n",
       "3       Medium\n",
       "4         High\n",
       "         ...  \n",
       "8518      High\n",
       "8519    Medium\n",
       "8520     Small\n",
       "8521    Medium\n",
       "8522     Small\n",
       "Name: Outlet_Size, Length: 8523, dtype: object"
      ]
     },
     "execution_count": 13,
     "metadata": {},
     "output_type": "execute_result"
    }
   ],
   "source": [
    "df1['Outlet_Size']"
   ]
  },
  {
   "cell_type": "code",
   "execution_count": 14,
   "id": "aef4feb6",
   "metadata": {},
   "outputs": [
    {
     "data": {
      "text/plain": [
       "Item_Identifier              0\n",
       "Item_Weight                  0\n",
       "Item_Fat_Content             0\n",
       "Item_Visibility              0\n",
       "Item_Type                    0\n",
       "Item_MRP                     0\n",
       "Outlet_Identifier            0\n",
       "Outlet_Establishment_Year    0\n",
       "Outlet_Size                  0\n",
       "Outlet_Location_Type         0\n",
       "Outlet_Type                  0\n",
       "Item_Outlet_Sales            0\n",
       "dtype: int64"
      ]
     },
     "execution_count": 14,
     "metadata": {},
     "output_type": "execute_result"
    }
   ],
   "source": [
    "df1.isnull().sum()"
   ]
  },
  {
   "cell_type": "code",
   "execution_count": 15,
   "id": "f006e136",
   "metadata": {},
   "outputs": [
    {
     "data": {
      "text/html": [
       "<div>\n",
       "<style scoped>\n",
       "    .dataframe tbody tr th:only-of-type {\n",
       "        vertical-align: middle;\n",
       "    }\n",
       "\n",
       "    .dataframe tbody tr th {\n",
       "        vertical-align: top;\n",
       "    }\n",
       "\n",
       "    .dataframe thead th {\n",
       "        text-align: right;\n",
       "    }\n",
       "</style>\n",
       "<table border=\"1\" class=\"dataframe\">\n",
       "  <thead>\n",
       "    <tr style=\"text-align: right;\">\n",
       "      <th></th>\n",
       "      <th>Item_Identifier</th>\n",
       "      <th>Item_Weight</th>\n",
       "      <th>Item_Fat_Content</th>\n",
       "      <th>Item_Visibility</th>\n",
       "      <th>Item_Type</th>\n",
       "      <th>Item_MRP</th>\n",
       "      <th>Outlet_Identifier</th>\n",
       "      <th>Outlet_Establishment_Year</th>\n",
       "      <th>Outlet_Size</th>\n",
       "      <th>Outlet_Location_Type</th>\n",
       "      <th>Outlet_Type</th>\n",
       "      <th>Item_Outlet_Sales</th>\n",
       "    </tr>\n",
       "  </thead>\n",
       "  <tbody>\n",
       "    <tr>\n",
       "      <th>5373</th>\n",
       "      <td>FDB33</td>\n",
       "      <td>17.75</td>\n",
       "      <td>Low Fat</td>\n",
       "      <td>0.014603</td>\n",
       "      <td>Fruits and Vegetables</td>\n",
       "      <td>158.6262</td>\n",
       "      <td>OUT049</td>\n",
       "      <td>1999</td>\n",
       "      <td>Medium</td>\n",
       "      <td>Tier 1</td>\n",
       "      <td>Supermarket Type1</td>\n",
       "      <td>3819.0288</td>\n",
       "    </tr>\n",
       "    <tr>\n",
       "      <th>7019</th>\n",
       "      <td>FDY47</td>\n",
       "      <td>8.60</td>\n",
       "      <td>Regular</td>\n",
       "      <td>0.000000</td>\n",
       "      <td>Breads</td>\n",
       "      <td>131.5310</td>\n",
       "      <td>OUT049</td>\n",
       "      <td>1999</td>\n",
       "      <td>Medium</td>\n",
       "      <td>Tier 1</td>\n",
       "      <td>Supermarket Type1</td>\n",
       "      <td>2466.7890</td>\n",
       "    </tr>\n",
       "    <tr>\n",
       "      <th>1425</th>\n",
       "      <td>FDE59</td>\n",
       "      <td>12.15</td>\n",
       "      <td>Low Fat</td>\n",
       "      <td>0.062640</td>\n",
       "      <td>Starchy Foods</td>\n",
       "      <td>36.6532</td>\n",
       "      <td>OUT017</td>\n",
       "      <td>2007</td>\n",
       "      <td>Medium</td>\n",
       "      <td>Tier 2</td>\n",
       "      <td>Supermarket Type1</td>\n",
       "      <td>251.6724</td>\n",
       "    </tr>\n",
       "    <tr>\n",
       "      <th>1882</th>\n",
       "      <td>FDP25</td>\n",
       "      <td>15.20</td>\n",
       "      <td>Low Fat</td>\n",
       "      <td>0.021251</td>\n",
       "      <td>Canned</td>\n",
       "      <td>216.5824</td>\n",
       "      <td>OUT045</td>\n",
       "      <td>2002</td>\n",
       "      <td>Medium</td>\n",
       "      <td>Tier 2</td>\n",
       "      <td>Supermarket Type1</td>\n",
       "      <td>5241.1776</td>\n",
       "    </tr>\n",
       "    <tr>\n",
       "      <th>6088</th>\n",
       "      <td>FDG45</td>\n",
       "      <td>8.10</td>\n",
       "      <td>Low Fat</td>\n",
       "      <td>0.128760</td>\n",
       "      <td>Fruits and Vegetables</td>\n",
       "      <td>213.7902</td>\n",
       "      <td>OUT017</td>\n",
       "      <td>2007</td>\n",
       "      <td>Medium</td>\n",
       "      <td>Tier 2</td>\n",
       "      <td>Supermarket Type1</td>\n",
       "      <td>5946.9256</td>\n",
       "    </tr>\n",
       "  </tbody>\n",
       "</table>\n",
       "</div>"
      ],
      "text/plain": [
       "     Item_Identifier  Item_Weight Item_Fat_Content  Item_Visibility  \\\n",
       "5373           FDB33        17.75          Low Fat         0.014603   \n",
       "7019           FDY47         8.60          Regular         0.000000   \n",
       "1425           FDE59        12.15          Low Fat         0.062640   \n",
       "1882           FDP25        15.20          Low Fat         0.021251   \n",
       "6088           FDG45         8.10          Low Fat         0.128760   \n",
       "\n",
       "                  Item_Type  Item_MRP Outlet_Identifier  \\\n",
       "5373  Fruits and Vegetables  158.6262            OUT049   \n",
       "7019                 Breads  131.5310            OUT049   \n",
       "1425          Starchy Foods   36.6532            OUT017   \n",
       "1882                 Canned  216.5824            OUT045   \n",
       "6088  Fruits and Vegetables  213.7902            OUT017   \n",
       "\n",
       "      Outlet_Establishment_Year Outlet_Size Outlet_Location_Type  \\\n",
       "5373                       1999      Medium               Tier 1   \n",
       "7019                       1999      Medium               Tier 1   \n",
       "1425                       2007      Medium               Tier 2   \n",
       "1882                       2002      Medium               Tier 2   \n",
       "6088                       2007      Medium               Tier 2   \n",
       "\n",
       "            Outlet_Type  Item_Outlet_Sales  \n",
       "5373  Supermarket Type1          3819.0288  \n",
       "7019  Supermarket Type1          2466.7890  \n",
       "1425  Supermarket Type1           251.6724  \n",
       "1882  Supermarket Type1          5241.1776  \n",
       "6088  Supermarket Type1          5946.9256  "
      ]
     },
     "execution_count": 15,
     "metadata": {},
     "output_type": "execute_result"
    }
   ],
   "source": [
    "df1.sample(5)"
   ]
  },
  {
   "cell_type": "code",
   "execution_count": 16,
   "id": "a11a2d30",
   "metadata": {},
   "outputs": [
    {
     "data": {
      "text/plain": [
       "Item_Identifier               object\n",
       "Item_Weight                  float64\n",
       "Item_Fat_Content              object\n",
       "Item_Visibility              float64\n",
       "Item_Type                     object\n",
       "Item_MRP                     float64\n",
       "Outlet_Identifier             object\n",
       "Outlet_Establishment_Year      int64\n",
       "Outlet_Size                   object\n",
       "Outlet_Location_Type          object\n",
       "Outlet_Type                   object\n",
       "Item_Outlet_Sales            float64\n",
       "dtype: object"
      ]
     },
     "execution_count": 16,
     "metadata": {},
     "output_type": "execute_result"
    }
   ],
   "source": [
    "df1.dtypes"
   ]
  },
  {
   "cell_type": "code",
   "execution_count": 17,
   "id": "d3a91fe4",
   "metadata": {},
   "outputs": [
    {
     "data": {
      "text/plain": [
       "['Item_Weight',\n",
       " 'Item_Visibility',\n",
       " 'Item_MRP',\n",
       " 'Outlet_Establishment_Year',\n",
       " 'Item_Outlet_Sales']"
      ]
     },
     "execution_count": 17,
     "metadata": {},
     "output_type": "execute_result"
    }
   ],
   "source": [
    "num_vars=[col for col in df1.columns if df1[col].dtypes!='object']\n",
    "num_vars"
   ]
  },
  {
   "cell_type": "markdown",
   "id": "b9127954",
   "metadata": {},
   "source": [
    "CHECKING FOR OUTLIERS"
   ]
  },
  {
   "cell_type": "code",
   "execution_count": 18,
   "id": "91ef63ae",
   "metadata": {},
   "outputs": [],
   "source": [
    "def plotvariable(df1, variable):\n",
    "    plt.figure(figsize=(16,4))\n",
    "    #histogram\n",
    "    plt.subplot(1,2,1)\n",
    "    plt.hist(df1[variable], alpha=0.5)\n",
    "    \n",
    "    #boxplot\n",
    "    plt.subplot(1,2,2)\n",
    "    sns.boxplot(df1[variable])\n",
    "    plt.show()"
   ]
  },
  {
   "cell_type": "code",
   "execution_count": 19,
   "id": "c9025bc8",
   "metadata": {
    "scrolled": true
   },
   "outputs": [
    {
     "data": {
      "image/png": "[encoded data removed]",
      "text/plain": [
       "<Figure size 1600x400 with 2 Axes>"
      ]
     },
     "metadata": {},
     "output_type": "display_data"
    }
   ],
   "source": [
    "plotvariable(df1, 'Item_Weight')"
   ]
  },
  {
   "cell_type": "code",
   "execution_count": 20,
   "id": "22f48f44",
   "metadata": {},
   "outputs": [
    {
     "data": {
      "text/plain": [
       "<Axes: >"
      ]
     },
     "execution_count": 20,
     "metadata": {},
     "output_type": "execute_result"
    },
    {
     "data": {
      "image/png": "[encoded data removed]",
      "text/plain": [
       "<Figure size 640x480 with 1 Axes>"
      ]
     },
     "metadata": {},
     "output_type": "display_data"
    }
   ],
   "source": [
    "sns.boxplot(df1['Item_Visibility'])"
   ]
  },
  {
   "cell_type": "code",
   "execution_count": 21,
   "id": "3f75b392",
   "metadata": {},
   "outputs": [
    {
     "data": {
      "image/png": "[encoded data removed]",
      "text/plain": [
       "<Figure size 1600x400 with 2 Axes>"
      ]
     },
     "metadata": {},
     "output_type": "display_data"
    }
   ],
   "source": [
    "plotvariable(df1, 'Item_MRP')"
   ]
  },
  {
   "cell_type": "code",
   "execution_count": 22,
   "id": "82ac5c3e",
   "metadata": {},
   "outputs": [
    {
     "data": {
      "image/png": "[encoded data removed]",
      "text/plain": [
       "<Figure size 1600x400 with 2 Axes>"
      ]
     },
     "metadata": {},
     "output_type": "display_data"
    }
   ],
   "source": [
    "plotvariable(df1, 'Outlet_Establishment_Year')"
   ]
  },
  {
   "cell_type": "code",
   "execution_count": 23,
   "id": "9c81b305",
   "metadata": {
    "scrolled": true
   },
   "outputs": [
    {
     "data": {
      "text/plain": [
       "<Axes: >"
      ]
     },
     "execution_count": 23,
     "metadata": {},
     "output_type": "execute_result"
    },
    {
     "data": {
      "image/png": "[encoded data removed]",
      "text/plain": [
       "<Figure size 640x480 with 1 Axes>"
      ]
     },
     "metadata": {},
     "output_type": "display_data"
    }
   ],
   "source": [
    "sns.boxplot(df1['Item_Outlet_Sales'])"
   ]
  },
  {
   "cell_type": "markdown",
   "id": "033148b2",
   "metadata": {},
   "source": [
    "REMOVING OUTLIERS USING IQR METHOD"
   ]
  },
  {
   "cell_type": "code",
   "execution_count": 24,
   "id": "4597903b",
   "metadata": {},
   "outputs": [],
   "source": [
    "def find_boundaries(df1, variables):\n",
    "    #Lets find the IQR (Inter quantile range)\n",
    "    Q1 = df1[variables].quantile(.25)\n",
    "    Q3 = df1[variables].quantile(.75)\n",
    "    IQR= Q3-Q1\n",
    "    lower_boundry = Q1 - 1.5*IQR\n",
    "    upper_boundry = Q3 + 1.5*IQR\n",
    "    \n",
    "    return lower_boundry, upper_boundry"
   ]
  },
  {
   "cell_type": "code",
   "execution_count": 25,
   "id": "07b84a25",
   "metadata": {},
   "outputs": [
    {
     "name": "stdout",
     "output_type": "stream",
     "text": [
      "Upper limit is  0.195979015\n",
      "lower limit is  -0.07440424500000001\n"
     ]
    }
   ],
   "source": [
    "lower_charges, upper_charges = find_boundaries(df1,'Item_Visibility')\n",
    "print('Upper limit is ',upper_charges)\n",
    "print('lower limit is ',lower_charges)"
   ]
  },
  {
   "cell_type": "code",
   "execution_count": 26,
   "id": "5f6508ce",
   "metadata": {},
   "outputs": [],
   "source": [
    "#Adjusting outliers with upper limit \n",
    "#If the value is above upper limit charges there it will adjust to 34524.\n",
    "#For example the charges was 40000 it will adjust it to 35000.\n",
    "\n",
    "df1['Item_Visibility']= np.where(df1['Item_Visibility']> upper_charges,upper_charges,\n",
    "                         np.where(df1['Item_Visibility']< lower_charges,lower_charges, df1['Item_Visibility']))"
   ]
  },
  {
   "cell_type": "code",
   "execution_count": 27,
   "id": "f6028f73",
   "metadata": {},
   "outputs": [
    {
     "data": {
      "text/plain": [
       "<Axes: >"
      ]
     },
     "execution_count": 27,
     "metadata": {},
     "output_type": "execute_result"
    },
    {
     "data": {
      "image/png": "[encoded data removed]",
      "text/plain": [
       "<Figure size 640x480 with 1 Axes>"
      ]
     },
     "metadata": {},
     "output_type": "display_data"
    }
   ],
   "source": [
    "sns.boxplot(df1['Item_Visibility'])"
   ]
  },
  {
   "cell_type": "code",
   "execution_count": 28,
   "id": "6659e698",
   "metadata": {},
   "outputs": [
    {
     "name": "stdout",
     "output_type": "stream",
     "text": [
      "Upper limit is  6501.8699\n",
      "lower limit is  -2566.3261\n"
     ]
    }
   ],
   "source": [
    "lower_charges, upper_charges = find_boundaries(df1,'Item_Outlet_Sales')\n",
    "print('Upper limit is ',upper_charges)\n",
    "print('lower limit is ',lower_charges)"
   ]
  },
  {
   "cell_type": "code",
   "execution_count": 29,
   "id": "3efa3072",
   "metadata": {},
   "outputs": [],
   "source": [
    "#Adjusting outliers with upper limit \n",
    "#If the value is above upper limit charges there it will adjust to 34524.\n",
    "#For example the charges was 40000 it will adjust it to 35000.\n",
    "\n",
    "df1['Item_Outlet_Sales']= np.where(df1['Item_Outlet_Sales']> upper_charges,upper_charges,\n",
    "                         np.where(df1['Item_Outlet_Sales']< lower_charges,lower_charges, df1['Item_Outlet_Sales']))"
   ]
  },
  {
   "cell_type": "code",
   "execution_count": 30,
   "id": "a0feac7e",
   "metadata": {
    "scrolled": true
   },
   "outputs": [
    {
     "data": {
      "text/plain": [
       "<Axes: >"
      ]
     },
     "execution_count": 30,
     "metadata": {},
     "output_type": "execute_result"
    },
    {
     "data": {
      "image/png": "[encoded data removed]",
      "text/plain": [
       "<Figure size 640x480 with 1 Axes>"
      ]
     },
     "metadata": {},
     "output_type": "display_data"
    }
   ],
   "source": [
    "sns.boxplot(df1['Item_Outlet_Sales'])"
   ]
  },
  {
   "cell_type": "code",
   "execution_count": 31,
   "id": "b39bd9f0",
   "metadata": {},
   "outputs": [
    {
     "data": {
      "text/plain": [
       "['Item_Identifier',\n",
       " 'Item_Fat_Content',\n",
       " 'Item_Type',\n",
       " 'Outlet_Identifier',\n",
       " 'Outlet_Size',\n",
       " 'Outlet_Location_Type',\n",
       " 'Outlet_Type']"
      ]
     },
     "execution_count": 31,
     "metadata": {},
     "output_type": "execute_result"
    }
   ],
   "source": [
    "cat_vars=[col for col in df1.columns if df1[col].dtypes=='object']\n",
    "cat_vars"
   ]
  },
  {
   "cell_type": "code",
   "execution_count": 32,
   "id": "cdbbb77b",
   "metadata": {
    "scrolled": false
   },
   "outputs": [
    {
     "data": {
      "text/html": [
       "<div>\n",
       "<style scoped>\n",
       "    .dataframe tbody tr th:only-of-type {\n",
       "        vertical-align: middle;\n",
       "    }\n",
       "\n",
       "    .dataframe tbody tr th {\n",
       "        vertical-align: top;\n",
       "    }\n",
       "\n",
       "    .dataframe thead th {\n",
       "        text-align: right;\n",
       "    }\n",
       "</style>\n",
       "<table border=\"1\" class=\"dataframe\">\n",
       "  <thead>\n",
       "    <tr style=\"text-align: right;\">\n",
       "      <th></th>\n",
       "      <th>Item_Identifier</th>\n",
       "      <th>Item_Weight</th>\n",
       "      <th>Item_Fat_Content</th>\n",
       "      <th>Item_Visibility</th>\n",
       "      <th>Item_Type</th>\n",
       "      <th>Item_MRP</th>\n",
       "      <th>Outlet_Identifier</th>\n",
       "      <th>Outlet_Establishment_Year</th>\n",
       "      <th>Outlet_Size</th>\n",
       "      <th>Outlet_Location_Type</th>\n",
       "      <th>Outlet_Type</th>\n",
       "      <th>Item_Outlet_Sales</th>\n",
       "    </tr>\n",
       "  </thead>\n",
       "  <tbody>\n",
       "    <tr>\n",
       "      <th>0</th>\n",
       "      <td>FDA15</td>\n",
       "      <td>9.30</td>\n",
       "      <td>Low Fat</td>\n",
       "      <td>0.016047</td>\n",
       "      <td>Dairy</td>\n",
       "      <td>249.8092</td>\n",
       "      <td>OUT049</td>\n",
       "      <td>1999</td>\n",
       "      <td>Medium</td>\n",
       "      <td>Tier 1</td>\n",
       "      <td>Supermarket Type1</td>\n",
       "      <td>3735.1380</td>\n",
       "    </tr>\n",
       "    <tr>\n",
       "      <th>1</th>\n",
       "      <td>DRC01</td>\n",
       "      <td>5.92</td>\n",
       "      <td>Regular</td>\n",
       "      <td>0.019278</td>\n",
       "      <td>Soft Drinks</td>\n",
       "      <td>48.2692</td>\n",
       "      <td>OUT018</td>\n",
       "      <td>2009</td>\n",
       "      <td>Medium</td>\n",
       "      <td>Tier 3</td>\n",
       "      <td>Supermarket Type2</td>\n",
       "      <td>443.4228</td>\n",
       "    </tr>\n",
       "    <tr>\n",
       "      <th>2</th>\n",
       "      <td>FDN15</td>\n",
       "      <td>17.50</td>\n",
       "      <td>Low Fat</td>\n",
       "      <td>0.016760</td>\n",
       "      <td>Meat</td>\n",
       "      <td>141.6180</td>\n",
       "      <td>OUT049</td>\n",
       "      <td>1999</td>\n",
       "      <td>Medium</td>\n",
       "      <td>Tier 1</td>\n",
       "      <td>Supermarket Type1</td>\n",
       "      <td>2097.2700</td>\n",
       "    </tr>\n",
       "    <tr>\n",
       "      <th>3</th>\n",
       "      <td>FDX07</td>\n",
       "      <td>19.20</td>\n",
       "      <td>Regular</td>\n",
       "      <td>0.000000</td>\n",
       "      <td>Fruits and Vegetables</td>\n",
       "      <td>182.0950</td>\n",
       "      <td>OUT010</td>\n",
       "      <td>1998</td>\n",
       "      <td>Medium</td>\n",
       "      <td>Tier 3</td>\n",
       "      <td>Grocery Store</td>\n",
       "      <td>732.3800</td>\n",
       "    </tr>\n",
       "    <tr>\n",
       "      <th>4</th>\n",
       "      <td>NCD19</td>\n",
       "      <td>8.93</td>\n",
       "      <td>Low Fat</td>\n",
       "      <td>0.000000</td>\n",
       "      <td>Household</td>\n",
       "      <td>53.8614</td>\n",
       "      <td>OUT013</td>\n",
       "      <td>1987</td>\n",
       "      <td>High</td>\n",
       "      <td>Tier 3</td>\n",
       "      <td>Supermarket Type1</td>\n",
       "      <td>994.7052</td>\n",
       "    </tr>\n",
       "  </tbody>\n",
       "</table>\n",
       "</div>"
      ],
      "text/plain": [
       "  Item_Identifier  Item_Weight Item_Fat_Content  Item_Visibility  \\\n",
       "0           FDA15         9.30          Low Fat         0.016047   \n",
       "1           DRC01         5.92          Regular         0.019278   \n",
       "2           FDN15        17.50          Low Fat         0.016760   \n",
       "3           FDX07        19.20          Regular         0.000000   \n",
       "4           NCD19         8.93          Low Fat         0.000000   \n",
       "\n",
       "               Item_Type  Item_MRP Outlet_Identifier  \\\n",
       "0                  Dairy  249.8092            OUT049   \n",
       "1            Soft Drinks   48.2692            OUT018   \n",
       "2                   Meat  141.6180            OUT049   \n",
       "3  Fruits and Vegetables  182.0950            OUT010   \n",
       "4              Household   53.8614            OUT013   \n",
       "\n",
       "   Outlet_Establishment_Year Outlet_Size Outlet_Location_Type  \\\n",
       "0                       1999      Medium               Tier 1   \n",
       "1                       2009      Medium               Tier 3   \n",
       "2                       1999      Medium               Tier 1   \n",
       "3                       1998      Medium               Tier 3   \n",
       "4                       1987        High               Tier 3   \n",
       "\n",
       "         Outlet_Type  Item_Outlet_Sales  \n",
       "0  Supermarket Type1          3735.1380  \n",
       "1  Supermarket Type2           443.4228  \n",
       "2  Supermarket Type1          2097.2700  \n",
       "3      Grocery Store           732.3800  \n",
       "4  Supermarket Type1           994.7052  "
      ]
     },
     "execution_count": 32,
     "metadata": {},
     "output_type": "execute_result"
    }
   ],
   "source": [
    "df1.head()"
   ]
  },
  {
   "cell_type": "code",
   "execution_count": 33,
   "id": "7d869060",
   "metadata": {},
   "outputs": [],
   "source": [
    "a='Item_Identifier'"
   ]
  },
  {
   "cell_type": "code",
   "execution_count": 34,
   "id": "411db97a",
   "metadata": {},
   "outputs": [],
   "source": [
    "df1=df1.drop(a,axis=1)"
   ]
  },
  {
   "cell_type": "code",
   "execution_count": 35,
   "id": "e85db38d",
   "metadata": {},
   "outputs": [
    {
     "data": {
      "text/plain": [
       "(8523, 11)"
      ]
     },
     "execution_count": 35,
     "metadata": {},
     "output_type": "execute_result"
    }
   ],
   "source": [
    "df1.shape"
   ]
  },
  {
   "cell_type": "markdown",
   "id": "e756b379",
   "metadata": {},
   "source": [
    "CONVERTING CATEGORICAL FEATURES INTO NUMERICAL FEATURES"
   ]
  },
  {
   "cell_type": "code",
   "execution_count": 36,
   "id": "c579afaa",
   "metadata": {},
   "outputs": [
    {
     "data": {
      "text/html": [
       "<div>\n",
       "<style scoped>\n",
       "    .dataframe tbody tr th:only-of-type {\n",
       "        vertical-align: middle;\n",
       "    }\n",
       "\n",
       "    .dataframe tbody tr th {\n",
       "        vertical-align: top;\n",
       "    }\n",
       "\n",
       "    .dataframe thead th {\n",
       "        text-align: right;\n",
       "    }\n",
       "</style>\n",
       "<table border=\"1\" class=\"dataframe\">\n",
       "  <thead>\n",
       "    <tr style=\"text-align: right;\">\n",
       "      <th></th>\n",
       "      <th>Item_Weight</th>\n",
       "      <th>Item_Fat_Content</th>\n",
       "      <th>Item_Visibility</th>\n",
       "      <th>Item_Type</th>\n",
       "      <th>Item_MRP</th>\n",
       "      <th>Outlet_Identifier</th>\n",
       "      <th>Outlet_Establishment_Year</th>\n",
       "      <th>Outlet_Size</th>\n",
       "      <th>Outlet_Location_Type</th>\n",
       "      <th>Outlet_Type</th>\n",
       "      <th>Item_Outlet_Sales</th>\n",
       "    </tr>\n",
       "  </thead>\n",
       "  <tbody>\n",
       "    <tr>\n",
       "      <th>0</th>\n",
       "      <td>9.30</td>\n",
       "      <td>1</td>\n",
       "      <td>0.016047</td>\n",
       "      <td>Dairy</td>\n",
       "      <td>249.8092</td>\n",
       "      <td>OUT049</td>\n",
       "      <td>1999</td>\n",
       "      <td>1</td>\n",
       "      <td>0</td>\n",
       "      <td>Supermarket Type1</td>\n",
       "      <td>3735.1380</td>\n",
       "    </tr>\n",
       "    <tr>\n",
       "      <th>1</th>\n",
       "      <td>5.92</td>\n",
       "      <td>2</td>\n",
       "      <td>0.019278</td>\n",
       "      <td>Soft Drinks</td>\n",
       "      <td>48.2692</td>\n",
       "      <td>OUT018</td>\n",
       "      <td>2009</td>\n",
       "      <td>1</td>\n",
       "      <td>2</td>\n",
       "      <td>Supermarket Type2</td>\n",
       "      <td>443.4228</td>\n",
       "    </tr>\n",
       "    <tr>\n",
       "      <th>2</th>\n",
       "      <td>17.50</td>\n",
       "      <td>1</td>\n",
       "      <td>0.016760</td>\n",
       "      <td>Meat</td>\n",
       "      <td>141.6180</td>\n",
       "      <td>OUT049</td>\n",
       "      <td>1999</td>\n",
       "      <td>1</td>\n",
       "      <td>0</td>\n",
       "      <td>Supermarket Type1</td>\n",
       "      <td>2097.2700</td>\n",
       "    </tr>\n",
       "    <tr>\n",
       "      <th>3</th>\n",
       "      <td>19.20</td>\n",
       "      <td>2</td>\n",
       "      <td>0.000000</td>\n",
       "      <td>Fruits and Vegetables</td>\n",
       "      <td>182.0950</td>\n",
       "      <td>OUT010</td>\n",
       "      <td>1998</td>\n",
       "      <td>1</td>\n",
       "      <td>2</td>\n",
       "      <td>Grocery Store</td>\n",
       "      <td>732.3800</td>\n",
       "    </tr>\n",
       "    <tr>\n",
       "      <th>4</th>\n",
       "      <td>8.93</td>\n",
       "      <td>1</td>\n",
       "      <td>0.000000</td>\n",
       "      <td>Household</td>\n",
       "      <td>53.8614</td>\n",
       "      <td>OUT013</td>\n",
       "      <td>1987</td>\n",
       "      <td>0</td>\n",
       "      <td>2</td>\n",
       "      <td>Supermarket Type1</td>\n",
       "      <td>994.7052</td>\n",
       "    </tr>\n",
       "  </tbody>\n",
       "</table>\n",
       "</div>"
      ],
      "text/plain": [
       "   Item_Weight  Item_Fat_Content  Item_Visibility              Item_Type  \\\n",
       "0         9.30                 1         0.016047                  Dairy   \n",
       "1         5.92                 2         0.019278            Soft Drinks   \n",
       "2        17.50                 1         0.016760                   Meat   \n",
       "3        19.20                 2         0.000000  Fruits and Vegetables   \n",
       "4         8.93                 1         0.000000              Household   \n",
       "\n",
       "   Item_MRP Outlet_Identifier  Outlet_Establishment_Year  Outlet_Size  \\\n",
       "0  249.8092            OUT049                       1999            1   \n",
       "1   48.2692            OUT018                       2009            1   \n",
       "2  141.6180            OUT049                       1999            1   \n",
       "3  182.0950            OUT010                       1998            1   \n",
       "4   53.8614            OUT013                       1987            0   \n",
       "\n",
       "   Outlet_Location_Type        Outlet_Type  Item_Outlet_Sales  \n",
       "0                     0  Supermarket Type1          3735.1380  \n",
       "1                     2  Supermarket Type2           443.4228  \n",
       "2                     0  Supermarket Type1          2097.2700  \n",
       "3                     2      Grocery Store           732.3800  \n",
       "4                     2  Supermarket Type1           994.7052  "
      ]
     },
     "execution_count": 36,
     "metadata": {},
     "output_type": "execute_result"
    }
   ],
   "source": [
    "from sklearn import preprocessing\n",
    "from sklearn.preprocessing import LabelEncoder,OneHotEncoder\n",
    "labelencoder = LabelEncoder()\n",
    "df1[\"Item_Fat_Content\"]=labelencoder.fit_transform(df1[\"Item_Fat_Content\"])\n",
    "df1[\"Outlet_Size\"]=labelencoder.fit_transform(df1[\"Outlet_Size\"])\n",
    "df1[\"Outlet_Location_Type\"]=labelencoder.fit_transform(df1[\"Outlet_Location_Type\"])\n",
    "df1.head()"
   ]
  },
  {
   "cell_type": "code",
   "execution_count": 37,
   "id": "bb9dad8d",
   "metadata": {},
   "outputs": [
    {
     "data": {
      "text/plain": [
       "(8523, 11)"
      ]
     },
     "execution_count": 37,
     "metadata": {},
     "output_type": "execute_result"
    }
   ],
   "source": [
    "df1.shape"
   ]
  },
  {
   "cell_type": "code",
   "execution_count": 38,
   "id": "2355ee3b",
   "metadata": {},
   "outputs": [],
   "source": [
    "oe =OneHotEncoder(sparse=False,handle_unknown=\"error\",drop=\"first\")"
   ]
  },
  {
   "cell_type": "code",
   "execution_count": 39,
   "id": "8a9a4970",
   "metadata": {},
   "outputs": [
    {
     "data": {
      "text/html": [
       "<style>#sk-container-id-1 {color: black;background-color: white;}#sk-container-id-1 pre{padding: 0;}#sk-container-id-1 div.sk-toggleable {background-color: white;}#sk-container-id-1 label.sk-toggleable__label {cursor: pointer;display: block;width: 100%;margin-bottom: 0;padding: 0.3em;box-sizing: border-box;text-align: center;}#sk-container-id-1 label.sk-toggleable__label-arrow:before {content: \"▸\";float: left;margin-right: 0.25em;color: #696969;}#sk-container-id-1 label.sk-toggleable__label-arrow:hover:before {color: black;}#sk-container-id-1 div.sk-estimator:hover label.sk-toggleable__label-arrow:before {color: black;}#sk-container-id-1 div.sk-toggleable__content {max-height: 0;max-width: 0;overflow: hidden;text-align: left;background-color: #f0f8ff;}#sk-container-id-1 div.sk-toggleable__content pre {margin: 0.2em;color: black;border-radius: 0.25em;background-color: #f0f8ff;}#sk-container-id-1 input.sk-toggleable__control:checked~div.sk-toggleable__content {max-height: 200px;max-width: 100%;overflow: auto;}#sk-container-id-1 input.sk-toggleable__control:checked~label.sk-toggleable__label-arrow:before {content: \"▾\";}#sk-container-id-1 div.sk-estimator input.sk-toggleable__control:checked~label.sk-toggleable__label {background-color: #d4ebff;}#sk-container-id-1 div.sk-label input.sk-toggleable__control:checked~label.sk-toggleable__label {background-color: #d4ebff;}#sk-container-id-1 input.sk-hidden--visually {border: 0;clip: rect(1px 1px 1px 1px);clip: rect(1px, 1px, 1px, 1px);height: 1px;margin: -1px;overflow: hidden;padding: 0;position: absolute;width: 1px;}#sk-container-id-1 div.sk-estimator {font-family: monospace;background-color: #f0f8ff;border: 1px dotted black;border-radius: 0.25em;box-sizing: border-box;margin-bottom: 0.5em;}#sk-container-id-1 div.sk-estimator:hover {background-color: #d4ebff;}#sk-container-id-1 div.sk-parallel-item::after {content: \"\";width: 100%;border-bottom: 1px solid gray;flex-grow: 1;}#sk-container-id-1 div.sk-label:hover label.sk-toggleable__label {background-color: #d4ebff;}#sk-container-id-1 div.sk-serial::before {content: \"\";position: absolute;border-left: 1px solid gray;box-sizing: border-box;top: 0;bottom: 0;left: 50%;z-index: 0;}#sk-container-id-1 div.sk-serial {display: flex;flex-direction: column;align-items: center;background-color: white;padding-right: 0.2em;padding-left: 0.2em;position: relative;}#sk-container-id-1 div.sk-item {position: relative;z-index: 1;}#sk-container-id-1 div.sk-parallel {display: flex;align-items: stretch;justify-content: center;background-color: white;position: relative;}#sk-container-id-1 div.sk-item::before, #sk-container-id-1 div.sk-parallel-item::before {content: \"\";position: absolute;border-left: 1px solid gray;box-sizing: border-box;top: 0;bottom: 0;left: 50%;z-index: -1;}#sk-container-id-1 div.sk-parallel-item {display: flex;flex-direction: column;z-index: 1;position: relative;background-color: white;}#sk-container-id-1 div.sk-parallel-item:first-child::after {align-self: flex-end;width: 50%;}#sk-container-id-1 div.sk-parallel-item:last-child::after {align-self: flex-start;width: 50%;}#sk-container-id-1 div.sk-parallel-item:only-child::after {width: 0;}#sk-container-id-1 div.sk-dashed-wrapped {border: 1px dashed gray;margin: 0 0.4em 0.5em 0.4em;box-sizing: border-box;padding-bottom: 0.4em;background-color: white;}#sk-container-id-1 div.sk-label label {font-family: monospace;font-weight: bold;display: inline-block;line-height: 1.2em;}#sk-container-id-1 div.sk-label-container {text-align: center;}#sk-container-id-1 div.sk-container {/* jupyter's `normalize.less` sets `[hidden] { display: none; }` but bootstrap.min.css set `[hidden] { display: none !important; }` so we also need the `!important` here to be able to override the default hidden behavior on the sphinx rendered scikit-learn.org. See: https://github.com/scikit-learn/scikit-learn/issues/21755 */display: inline-block !important;position: relative;}#sk-container-id-1 div.sk-text-repr-fallback {display: none;}</style><div id=\"sk-container-id-1\" class=\"sk-top-container\"><div class=\"sk-text-repr-fallback\"><pre>OneHotEncoder(drop=&#x27;first&#x27;, sparse=False)</pre><b>In a Jupyter environment, please rerun this cell to show the HTML representation or trust the notebook. <br />On GitHub, the HTML representation is unable to render, please try loading this page with nbviewer.org.</b></div><div class=\"sk-container\" hidden><div class=\"sk-item\"><div class=\"sk-estimator sk-toggleable\"><input class=\"sk-toggleable__control sk-hidden--visually\" id=\"sk-estimator-id-1\" type=\"checkbox\" checked><label for=\"sk-estimator-id-1\" class=\"sk-toggleable__label sk-toggleable__label-arrow\">OneHotEncoder</label><div class=\"sk-toggleable__content\"><pre>OneHotEncoder(drop=&#x27;first&#x27;, sparse=False)</pre></div></div></div></div></div>"
      ],
      "text/plain": [
       "OneHotEncoder(drop='first', sparse=False)"
      ]
     },
     "execution_count": 39,
     "metadata": {},
     "output_type": "execute_result"
    }
   ],
   "source": [
    "oe"
   ]
  },
  {
   "cell_type": "code",
   "execution_count": 40,
   "id": "12bd890c",
   "metadata": {},
   "outputs": [
    {
     "name": "stderr",
     "output_type": "stream",
     "text": [
      "C:\\Users\\vivek\\AppData\\Local\\Temp\\ipykernel_2084\\3608926592.py:3: FutureWarning: The default value of numeric_only in DataFrame.corr is deprecated. In a future version, it will default to False. Select only valid columns or specify the value of numeric_only to silence this warning.\n",
      "  sns.heatmap(df1.corr(),cmap='GnBu',annot=True)\n"
     ]
    },
    {
     "data": {
      "text/plain": [
       "<Axes: >"
      ]
     },
     "execution_count": 40,
     "metadata": {},
     "output_type": "execute_result"
    },
    {
     "data": {
      "image/png": "[encoded data removed]",
      "text/plain": [
       "<Figure size 2500x1500 with 2 Axes>"
      ]
     },
     "metadata": {},
     "output_type": "display_data"
    }
   ],
   "source": [
    "#Correlation\n",
    "plt.figure(figsize=(25,15))\n",
    "sns.heatmap(df1.corr(),cmap='GnBu',annot=True)"
   ]
  },
  {
   "cell_type": "code",
   "execution_count": 41,
   "id": "9d8131b3",
   "metadata": {},
   "outputs": [
    {
     "data": {
      "text/plain": [
       "array(['Dairy', 'Soft Drinks', 'Meat', 'Fruits and Vegetables',\n",
       "       'Household', 'Baking Goods', 'Snack Foods', 'Frozen Foods',\n",
       "       'Breakfast', 'Health and Hygiene', 'Hard Drinks', 'Canned',\n",
       "       'Breads', 'Starchy Foods', 'Others', 'Seafood'], dtype=object)"
      ]
     },
     "execution_count": 41,
     "metadata": {},
     "output_type": "execute_result"
    }
   ],
   "source": [
    "df1['Item_Type'].unique()"
   ]
  },
  {
   "cell_type": "code",
   "execution_count": 42,
   "id": "a232a5aa",
   "metadata": {},
   "outputs": [
    {
     "data": {
      "text/plain": [
       "array(['OUT049', 'OUT018', 'OUT010', 'OUT013', 'OUT027', 'OUT045',\n",
       "       'OUT017', 'OUT046', 'OUT035', 'OUT019'], dtype=object)"
      ]
     },
     "execution_count": 42,
     "metadata": {},
     "output_type": "execute_result"
    }
   ],
   "source": [
    "df1['Outlet_Identifier'].unique()"
   ]
  },
  {
   "cell_type": "code",
   "execution_count": 43,
   "id": "80ebdfa6",
   "metadata": {},
   "outputs": [
    {
     "data": {
      "text/plain": [
       "array(['Supermarket Type1', 'Supermarket Type2', 'Grocery Store',\n",
       "       'Supermarket Type3'], dtype=object)"
      ]
     },
     "execution_count": 43,
     "metadata": {},
     "output_type": "execute_result"
    }
   ],
   "source": [
    "df1['Outlet_Type'].unique()"
   ]
  },
  {
   "cell_type": "code",
   "execution_count": 44,
   "id": "56132561",
   "metadata": {},
   "outputs": [],
   "source": [
    "ohe = OneHotEncoder()\n",
    "a = ohe.fit_transform(df1.Item_Type.values.reshape(-1,1)).toarray()\n",
    "OHE = pd.DataFrame(a, columns = ['Dairy', 'Soft Drinks', 'Meat', 'Fruits and Vegetables',\n",
    "       'Household', 'Baking Goods', 'Snack Foods', 'Frozen Foods',\n",
    "       'Breakfast', 'Health and Hygiene', 'Hard Drinks', 'Canned',\n",
    "       'Breads', 'Starchy Foods', 'Others', 'Seafood'])\n",
    "df1 = pd.concat([df1, OHE], axis=1)\n",
    "df1 = df1.drop(\"Item_Type\",axis = 1)"
   ]
  },
  {
   "cell_type": "code",
   "execution_count": 45,
   "id": "5798bc09",
   "metadata": {},
   "outputs": [],
   "source": [
    "ohe = OneHotEncoder()\n",
    "a = ohe.fit_transform(df1.Outlet_Identifier.values.reshape(-1,1)).toarray()\n",
    "OHE = pd.DataFrame(a, columns = ['OUT049', 'OUT018', 'OUT010', 'OUT013', 'OUT027', 'OUT045',\n",
    "       'OUT017', 'OUT046', 'OUT035', 'OUT019'])\n",
    "df1 = pd.concat([df1, OHE], axis=1)\n",
    "df1 = df1.drop(\"Outlet_Identifier\",axis = 1)"
   ]
  },
  {
   "cell_type": "code",
   "execution_count": 46,
   "id": "8cd3c6ce",
   "metadata": {},
   "outputs": [],
   "source": [
    "ohe = OneHotEncoder()\n",
    "a = ohe.fit_transform(df1.Outlet_Type.values.reshape(-1,1)).toarray()\n",
    "OHE = pd.DataFrame(a, columns = ['Supermarket Type1', 'Supermarket Type2', 'Grocery Store',\n",
    "       'Supermarket Type3'])\n",
    "df1 = pd.concat([df1, OHE], axis=1)\n",
    "df1 = df1.drop(\"Outlet_Type\",axis = 1)"
   ]
  },
  {
   "cell_type": "code",
   "execution_count": 47,
   "id": "3f3c7d83",
   "metadata": {},
   "outputs": [
    {
     "data": {
      "text/plain": [
       "(8523, 38)"
      ]
     },
     "execution_count": 47,
     "metadata": {},
     "output_type": "execute_result"
    }
   ],
   "source": [
    "df1.shape"
   ]
  },
  {
   "cell_type": "code",
   "execution_count": 48,
   "id": "f52f2600",
   "metadata": {},
   "outputs": [
    {
     "data": {
      "text/html": [
       "<div>\n",
       "<style scoped>\n",
       "    .dataframe tbody tr th:only-of-type {\n",
       "        vertical-align: middle;\n",
       "    }\n",
       "\n",
       "    .dataframe tbody tr th {\n",
       "        vertical-align: top;\n",
       "    }\n",
       "\n",
       "    .dataframe thead th {\n",
       "        text-align: right;\n",
       "    }\n",
       "</style>\n",
       "<table border=\"1\" class=\"dataframe\">\n",
       "  <thead>\n",
       "    <tr style=\"text-align: right;\">\n",
       "      <th></th>\n",
       "      <th>Item_Weight</th>\n",
       "      <th>Item_Fat_Content</th>\n",
       "      <th>Item_Visibility</th>\n",
       "      <th>Item_MRP</th>\n",
       "      <th>Outlet_Establishment_Year</th>\n",
       "      <th>Outlet_Size</th>\n",
       "      <th>Outlet_Location_Type</th>\n",
       "      <th>Item_Outlet_Sales</th>\n",
       "      <th>Dairy</th>\n",
       "      <th>Soft Drinks</th>\n",
       "      <th>...</th>\n",
       "      <th>OUT027</th>\n",
       "      <th>OUT045</th>\n",
       "      <th>OUT017</th>\n",
       "      <th>OUT046</th>\n",
       "      <th>OUT035</th>\n",
       "      <th>OUT019</th>\n",
       "      <th>Supermarket Type1</th>\n",
       "      <th>Supermarket Type2</th>\n",
       "      <th>Grocery Store</th>\n",
       "      <th>Supermarket Type3</th>\n",
       "    </tr>\n",
       "  </thead>\n",
       "  <tbody>\n",
       "    <tr>\n",
       "      <th>0</th>\n",
       "      <td>9.30</td>\n",
       "      <td>1</td>\n",
       "      <td>0.016047</td>\n",
       "      <td>249.8092</td>\n",
       "      <td>1999</td>\n",
       "      <td>1</td>\n",
       "      <td>0</td>\n",
       "      <td>3735.1380</td>\n",
       "      <td>0.0</td>\n",
       "      <td>0.0</td>\n",
       "      <td>...</td>\n",
       "      <td>0.0</td>\n",
       "      <td>0.0</td>\n",
       "      <td>0.0</td>\n",
       "      <td>0.0</td>\n",
       "      <td>0.0</td>\n",
       "      <td>1.0</td>\n",
       "      <td>0.0</td>\n",
       "      <td>1.0</td>\n",
       "      <td>0.0</td>\n",
       "      <td>0.0</td>\n",
       "    </tr>\n",
       "    <tr>\n",
       "      <th>1</th>\n",
       "      <td>5.92</td>\n",
       "      <td>2</td>\n",
       "      <td>0.019278</td>\n",
       "      <td>48.2692</td>\n",
       "      <td>2009</td>\n",
       "      <td>1</td>\n",
       "      <td>2</td>\n",
       "      <td>443.4228</td>\n",
       "      <td>0.0</td>\n",
       "      <td>0.0</td>\n",
       "      <td>...</td>\n",
       "      <td>0.0</td>\n",
       "      <td>0.0</td>\n",
       "      <td>0.0</td>\n",
       "      <td>0.0</td>\n",
       "      <td>0.0</td>\n",
       "      <td>0.0</td>\n",
       "      <td>0.0</td>\n",
       "      <td>0.0</td>\n",
       "      <td>1.0</td>\n",
       "      <td>0.0</td>\n",
       "    </tr>\n",
       "    <tr>\n",
       "      <th>2</th>\n",
       "      <td>17.50</td>\n",
       "      <td>1</td>\n",
       "      <td>0.016760</td>\n",
       "      <td>141.6180</td>\n",
       "      <td>1999</td>\n",
       "      <td>1</td>\n",
       "      <td>0</td>\n",
       "      <td>2097.2700</td>\n",
       "      <td>0.0</td>\n",
       "      <td>0.0</td>\n",
       "      <td>...</td>\n",
       "      <td>0.0</td>\n",
       "      <td>0.0</td>\n",
       "      <td>0.0</td>\n",
       "      <td>0.0</td>\n",
       "      <td>0.0</td>\n",
       "      <td>1.0</td>\n",
       "      <td>0.0</td>\n",
       "      <td>1.0</td>\n",
       "      <td>0.0</td>\n",
       "      <td>0.0</td>\n",
       "    </tr>\n",
       "    <tr>\n",
       "      <th>3</th>\n",
       "      <td>19.20</td>\n",
       "      <td>2</td>\n",
       "      <td>0.000000</td>\n",
       "      <td>182.0950</td>\n",
       "      <td>1998</td>\n",
       "      <td>1</td>\n",
       "      <td>2</td>\n",
       "      <td>732.3800</td>\n",
       "      <td>0.0</td>\n",
       "      <td>0.0</td>\n",
       "      <td>...</td>\n",
       "      <td>0.0</td>\n",
       "      <td>0.0</td>\n",
       "      <td>0.0</td>\n",
       "      <td>0.0</td>\n",
       "      <td>0.0</td>\n",
       "      <td>0.0</td>\n",
       "      <td>1.0</td>\n",
       "      <td>0.0</td>\n",
       "      <td>0.0</td>\n",
       "      <td>0.0</td>\n",
       "    </tr>\n",
       "    <tr>\n",
       "      <th>4</th>\n",
       "      <td>8.93</td>\n",
       "      <td>1</td>\n",
       "      <td>0.000000</td>\n",
       "      <td>53.8614</td>\n",
       "      <td>1987</td>\n",
       "      <td>0</td>\n",
       "      <td>2</td>\n",
       "      <td>994.7052</td>\n",
       "      <td>0.0</td>\n",
       "      <td>0.0</td>\n",
       "      <td>...</td>\n",
       "      <td>0.0</td>\n",
       "      <td>0.0</td>\n",
       "      <td>0.0</td>\n",
       "      <td>0.0</td>\n",
       "      <td>0.0</td>\n",
       "      <td>0.0</td>\n",
       "      <td>0.0</td>\n",
       "      <td>1.0</td>\n",
       "      <td>0.0</td>\n",
       "      <td>0.0</td>\n",
       "    </tr>\n",
       "  </tbody>\n",
       "</table>\n",
       "<p>5 rows × 38 columns</p>\n",
       "</div>"
      ],
      "text/plain": [
       "   Item_Weight  Item_Fat_Content  Item_Visibility  Item_MRP  \\\n",
       "0         9.30                 1         0.016047  249.8092   \n",
       "1         5.92                 2         0.019278   48.2692   \n",
       "2        17.50                 1         0.016760  141.6180   \n",
       "3        19.20                 2         0.000000  182.0950   \n",
       "4         8.93                 1         0.000000   53.8614   \n",
       "\n",
       "   Outlet_Establishment_Year  Outlet_Size  Outlet_Location_Type  \\\n",
       "0                       1999            1                     0   \n",
       "1                       2009            1                     2   \n",
       "2                       1999            1                     0   \n",
       "3                       1998            1                     2   \n",
       "4                       1987            0                     2   \n",
       "\n",
       "   Item_Outlet_Sales  Dairy  Soft Drinks  ...  OUT027  OUT045  OUT017  OUT046  \\\n",
       "0          3735.1380    0.0          0.0  ...     0.0     0.0     0.0     0.0   \n",
       "1           443.4228    0.0          0.0  ...     0.0     0.0     0.0     0.0   \n",
       "2          2097.2700    0.0          0.0  ...     0.0     0.0     0.0     0.0   \n",
       "3           732.3800    0.0          0.0  ...     0.0     0.0     0.0     0.0   \n",
       "4           994.7052    0.0          0.0  ...     0.0     0.0     0.0     0.0   \n",
       "\n",
       "   OUT035  OUT019  Supermarket Type1  Supermarket Type2  Grocery Store  \\\n",
       "0     0.0     1.0                0.0                1.0            0.0   \n",
       "1     0.0     0.0                0.0                0.0            1.0   \n",
       "2     0.0     1.0                0.0                1.0            0.0   \n",
       "3     0.0     0.0                1.0                0.0            0.0   \n",
       "4     0.0     0.0                0.0                1.0            0.0   \n",
       "\n",
       "   Supermarket Type3  \n",
       "0                0.0  \n",
       "1                0.0  \n",
       "2                0.0  \n",
       "3                0.0  \n",
       "4                0.0  \n",
       "\n",
       "[5 rows x 38 columns]"
      ]
     },
     "execution_count": 48,
     "metadata": {},
     "output_type": "execute_result"
    }
   ],
   "source": [
    "df1.head()"
   ]
  },
  {
   "cell_type": "code",
   "execution_count": 49,
   "id": "d09ac0c6",
   "metadata": {},
   "outputs": [],
   "source": [
    "target_feature='Item_Outlet_Sales'"
   ]
  },
  {
   "cell_type": "code",
   "execution_count": 50,
   "id": "f1df66d4",
   "metadata": {},
   "outputs": [],
   "source": [
    "y=df1[target_feature]"
   ]
  },
  {
   "cell_type": "code",
   "execution_count": 51,
   "id": "0cbab10a",
   "metadata": {},
   "outputs": [
    {
     "data": {
      "text/plain": [
       "(8523,)"
      ]
     },
     "execution_count": 51,
     "metadata": {},
     "output_type": "execute_result"
    }
   ],
   "source": [
    "y.shape"
   ]
  },
  {
   "cell_type": "code",
   "execution_count": 52,
   "id": "d5b61a2f",
   "metadata": {},
   "outputs": [],
   "source": [
    "x=df1.drop(target_feature,axis=1)"
   ]
  },
  {
   "cell_type": "code",
   "execution_count": 53,
   "id": "bdc9917a",
   "metadata": {},
   "outputs": [
    {
     "data": {
      "text/plain": [
       "(8523, 37)"
      ]
     },
     "execution_count": 53,
     "metadata": {},
     "output_type": "execute_result"
    }
   ],
   "source": [
    "x.shape"
   ]
  },
  {
   "cell_type": "markdown",
   "id": "a9baa420",
   "metadata": {},
   "source": [
    "SPLITTING THE DATASET INTO TRAINING AND TESTING"
   ]
  },
  {
   "cell_type": "code",
   "execution_count": 54,
   "id": "f7b33c28",
   "metadata": {},
   "outputs": [],
   "source": [
    "x_train,x_test,y_train,y_test=train_test_split(x,y,test_size=0.1,random_state=3)"
   ]
  },
  {
   "cell_type": "code",
   "execution_count": 55,
   "id": "61adf2f3",
   "metadata": {},
   "outputs": [
    {
     "data": {
      "text/plain": [
       "(7670, 37)"
      ]
     },
     "execution_count": 55,
     "metadata": {},
     "output_type": "execute_result"
    }
   ],
   "source": [
    "x_train.shape"
   ]
  },
  {
   "cell_type": "code",
   "execution_count": 56,
   "id": "9ccd35f5",
   "metadata": {},
   "outputs": [
    {
     "data": {
      "text/plain": [
       "(7670,)"
      ]
     },
     "execution_count": 56,
     "metadata": {},
     "output_type": "execute_result"
    }
   ],
   "source": [
    "y_train.shape"
   ]
  },
  {
   "cell_type": "code",
   "execution_count": 57,
   "id": "3d12f3f6",
   "metadata": {},
   "outputs": [
    {
     "data": {
      "text/plain": [
       "(853, 37)"
      ]
     },
     "execution_count": 57,
     "metadata": {},
     "output_type": "execute_result"
    }
   ],
   "source": [
    "x_test.shape"
   ]
  },
  {
   "cell_type": "code",
   "execution_count": 58,
   "id": "c2fe2db8",
   "metadata": {},
   "outputs": [
    {
     "data": {
      "text/plain": [
       "(853,)"
      ]
     },
     "execution_count": 58,
     "metadata": {},
     "output_type": "execute_result"
    }
   ],
   "source": [
    "y_test.shape"
   ]
  },
  {
   "cell_type": "markdown",
   "id": "40189700",
   "metadata": {},
   "source": [
    "USING SCALING TEQNIQUES FOR THE DATASET"
   ]
  },
  {
   "cell_type": "code",
   "execution_count": 59,
   "id": "2729f50c",
   "metadata": {},
   "outputs": [],
   "source": [
    "from sklearn.preprocessing import MinMaxScaler\n",
    "\n",
    "scaler = MinMaxScaler()\n",
    "\n",
    "# fit the scaler to the train set, it will learn the parameters\n",
    "scaler.fit(x_train)\n",
    "\n",
    "# transform train and test sets\n",
    "x_train_scaled = scaler.transform(x_train)\n",
    "x_test_scaled = scaler.transform(x_test)"
   ]
  },
  {
   "cell_type": "code",
   "execution_count": 60,
   "id": "962c85e2",
   "metadata": {
    "scrolled": false
   },
   "outputs": [
    {
     "data": {
      "text/html": [
       "<div>\n",
       "<style scoped>\n",
       "    .dataframe tbody tr th:only-of-type {\n",
       "        vertical-align: middle;\n",
       "    }\n",
       "\n",
       "    .dataframe tbody tr th {\n",
       "        vertical-align: top;\n",
       "    }\n",
       "\n",
       "    .dataframe thead th {\n",
       "        text-align: right;\n",
       "    }\n",
       "</style>\n",
       "<table border=\"1\" class=\"dataframe\">\n",
       "  <thead>\n",
       "    <tr style=\"text-align: right;\">\n",
       "      <th></th>\n",
       "      <th>Item_Weight</th>\n",
       "      <th>Item_Fat_Content</th>\n",
       "      <th>Item_Visibility</th>\n",
       "      <th>Item_MRP</th>\n",
       "      <th>Outlet_Establishment_Year</th>\n",
       "      <th>Outlet_Size</th>\n",
       "      <th>Outlet_Location_Type</th>\n",
       "      <th>Dairy</th>\n",
       "      <th>Soft Drinks</th>\n",
       "      <th>Meat</th>\n",
       "      <th>...</th>\n",
       "      <th>OUT027</th>\n",
       "      <th>OUT045</th>\n",
       "      <th>OUT017</th>\n",
       "      <th>OUT046</th>\n",
       "      <th>OUT035</th>\n",
       "      <th>OUT019</th>\n",
       "      <th>Supermarket Type1</th>\n",
       "      <th>Supermarket Type2</th>\n",
       "      <th>Grocery Store</th>\n",
       "      <th>Supermarket Type3</th>\n",
       "    </tr>\n",
       "  </thead>\n",
       "  <tbody>\n",
       "    <tr>\n",
       "      <th>2765</th>\n",
       "      <td>11.100000</td>\n",
       "      <td>2</td>\n",
       "      <td>0.060303</td>\n",
       "      <td>175.8712</td>\n",
       "      <td>1998</td>\n",
       "      <td>1</td>\n",
       "      <td>2</td>\n",
       "      <td>0.0</td>\n",
       "      <td>0.0</td>\n",
       "      <td>0.0</td>\n",
       "      <td>...</td>\n",
       "      <td>0.0</td>\n",
       "      <td>0.0</td>\n",
       "      <td>0.0</td>\n",
       "      <td>0.0</td>\n",
       "      <td>0.0</td>\n",
       "      <td>0.0</td>\n",
       "      <td>1.0</td>\n",
       "      <td>0.0</td>\n",
       "      <td>0.0</td>\n",
       "      <td>0.0</td>\n",
       "    </tr>\n",
       "    <tr>\n",
       "      <th>696</th>\n",
       "      <td>12.600000</td>\n",
       "      <td>1</td>\n",
       "      <td>0.007450</td>\n",
       "      <td>186.7556</td>\n",
       "      <td>1987</td>\n",
       "      <td>0</td>\n",
       "      <td>2</td>\n",
       "      <td>0.0</td>\n",
       "      <td>0.0</td>\n",
       "      <td>0.0</td>\n",
       "      <td>...</td>\n",
       "      <td>0.0</td>\n",
       "      <td>0.0</td>\n",
       "      <td>0.0</td>\n",
       "      <td>0.0</td>\n",
       "      <td>0.0</td>\n",
       "      <td>0.0</td>\n",
       "      <td>0.0</td>\n",
       "      <td>1.0</td>\n",
       "      <td>0.0</td>\n",
       "      <td>0.0</td>\n",
       "    </tr>\n",
       "    <tr>\n",
       "      <th>5047</th>\n",
       "      <td>19.100000</td>\n",
       "      <td>4</td>\n",
       "      <td>0.025867</td>\n",
       "      <td>147.6418</td>\n",
       "      <td>2004</td>\n",
       "      <td>2</td>\n",
       "      <td>1</td>\n",
       "      <td>0.0</td>\n",
       "      <td>0.0</td>\n",
       "      <td>0.0</td>\n",
       "      <td>...</td>\n",
       "      <td>0.0</td>\n",
       "      <td>0.0</td>\n",
       "      <td>1.0</td>\n",
       "      <td>0.0</td>\n",
       "      <td>0.0</td>\n",
       "      <td>0.0</td>\n",
       "      <td>0.0</td>\n",
       "      <td>1.0</td>\n",
       "      <td>0.0</td>\n",
       "      <td>0.0</td>\n",
       "    </tr>\n",
       "    <tr>\n",
       "      <th>4850</th>\n",
       "      <td>11.600000</td>\n",
       "      <td>2</td>\n",
       "      <td>0.144604</td>\n",
       "      <td>240.8222</td>\n",
       "      <td>2009</td>\n",
       "      <td>1</td>\n",
       "      <td>2</td>\n",
       "      <td>0.0</td>\n",
       "      <td>0.0</td>\n",
       "      <td>0.0</td>\n",
       "      <td>...</td>\n",
       "      <td>0.0</td>\n",
       "      <td>0.0</td>\n",
       "      <td>0.0</td>\n",
       "      <td>0.0</td>\n",
       "      <td>0.0</td>\n",
       "      <td>0.0</td>\n",
       "      <td>0.0</td>\n",
       "      <td>0.0</td>\n",
       "      <td>1.0</td>\n",
       "      <td>0.0</td>\n",
       "    </tr>\n",
       "    <tr>\n",
       "      <th>1544</th>\n",
       "      <td>5.465000</td>\n",
       "      <td>2</td>\n",
       "      <td>0.048487</td>\n",
       "      <td>131.2626</td>\n",
       "      <td>1987</td>\n",
       "      <td>0</td>\n",
       "      <td>2</td>\n",
       "      <td>1.0</td>\n",
       "      <td>0.0</td>\n",
       "      <td>0.0</td>\n",
       "      <td>...</td>\n",
       "      <td>0.0</td>\n",
       "      <td>0.0</td>\n",
       "      <td>0.0</td>\n",
       "      <td>0.0</td>\n",
       "      <td>0.0</td>\n",
       "      <td>0.0</td>\n",
       "      <td>0.0</td>\n",
       "      <td>1.0</td>\n",
       "      <td>0.0</td>\n",
       "      <td>0.0</td>\n",
       "    </tr>\n",
       "    <tr>\n",
       "      <th>...</th>\n",
       "      <td>...</td>\n",
       "      <td>...</td>\n",
       "      <td>...</td>\n",
       "      <td>...</td>\n",
       "      <td>...</td>\n",
       "      <td>...</td>\n",
       "      <td>...</td>\n",
       "      <td>...</td>\n",
       "      <td>...</td>\n",
       "      <td>...</td>\n",
       "      <td>...</td>\n",
       "      <td>...</td>\n",
       "      <td>...</td>\n",
       "      <td>...</td>\n",
       "      <td>...</td>\n",
       "      <td>...</td>\n",
       "      <td>...</td>\n",
       "      <td>...</td>\n",
       "      <td>...</td>\n",
       "      <td>...</td>\n",
       "      <td>...</td>\n",
       "    </tr>\n",
       "    <tr>\n",
       "      <th>7161</th>\n",
       "      <td>12.857645</td>\n",
       "      <td>1</td>\n",
       "      <td>0.032610</td>\n",
       "      <td>37.4822</td>\n",
       "      <td>1985</td>\n",
       "      <td>1</td>\n",
       "      <td>2</td>\n",
       "      <td>0.0</td>\n",
       "      <td>0.0</td>\n",
       "      <td>0.0</td>\n",
       "      <td>...</td>\n",
       "      <td>0.0</td>\n",
       "      <td>1.0</td>\n",
       "      <td>0.0</td>\n",
       "      <td>0.0</td>\n",
       "      <td>0.0</td>\n",
       "      <td>0.0</td>\n",
       "      <td>0.0</td>\n",
       "      <td>0.0</td>\n",
       "      <td>0.0</td>\n",
       "      <td>1.0</td>\n",
       "    </tr>\n",
       "    <tr>\n",
       "      <th>2707</th>\n",
       "      <td>8.935000</td>\n",
       "      <td>1</td>\n",
       "      <td>0.040410</td>\n",
       "      <td>52.9298</td>\n",
       "      <td>2007</td>\n",
       "      <td>1</td>\n",
       "      <td>1</td>\n",
       "      <td>0.0</td>\n",
       "      <td>0.0</td>\n",
       "      <td>0.0</td>\n",
       "      <td>...</td>\n",
       "      <td>0.0</td>\n",
       "      <td>0.0</td>\n",
       "      <td>0.0</td>\n",
       "      <td>0.0</td>\n",
       "      <td>0.0</td>\n",
       "      <td>0.0</td>\n",
       "      <td>0.0</td>\n",
       "      <td>1.0</td>\n",
       "      <td>0.0</td>\n",
       "      <td>0.0</td>\n",
       "    </tr>\n",
       "    <tr>\n",
       "      <th>6400</th>\n",
       "      <td>16.350000</td>\n",
       "      <td>1</td>\n",
       "      <td>0.034393</td>\n",
       "      <td>50.8324</td>\n",
       "      <td>1998</td>\n",
       "      <td>1</td>\n",
       "      <td>2</td>\n",
       "      <td>0.0</td>\n",
       "      <td>0.0</td>\n",
       "      <td>0.0</td>\n",
       "      <td>...</td>\n",
       "      <td>0.0</td>\n",
       "      <td>0.0</td>\n",
       "      <td>0.0</td>\n",
       "      <td>0.0</td>\n",
       "      <td>0.0</td>\n",
       "      <td>0.0</td>\n",
       "      <td>1.0</td>\n",
       "      <td>0.0</td>\n",
       "      <td>0.0</td>\n",
       "      <td>0.0</td>\n",
       "    </tr>\n",
       "    <tr>\n",
       "      <th>1688</th>\n",
       "      <td>12.857645</td>\n",
       "      <td>2</td>\n",
       "      <td>0.121044</td>\n",
       "      <td>59.4220</td>\n",
       "      <td>1985</td>\n",
       "      <td>1</td>\n",
       "      <td>2</td>\n",
       "      <td>1.0</td>\n",
       "      <td>0.0</td>\n",
       "      <td>0.0</td>\n",
       "      <td>...</td>\n",
       "      <td>0.0</td>\n",
       "      <td>1.0</td>\n",
       "      <td>0.0</td>\n",
       "      <td>0.0</td>\n",
       "      <td>0.0</td>\n",
       "      <td>0.0</td>\n",
       "      <td>0.0</td>\n",
       "      <td>0.0</td>\n",
       "      <td>0.0</td>\n",
       "      <td>1.0</td>\n",
       "    </tr>\n",
       "    <tr>\n",
       "      <th>5994</th>\n",
       "      <td>9.695000</td>\n",
       "      <td>1</td>\n",
       "      <td>0.190711</td>\n",
       "      <td>159.1604</td>\n",
       "      <td>1998</td>\n",
       "      <td>1</td>\n",
       "      <td>2</td>\n",
       "      <td>0.0</td>\n",
       "      <td>0.0</td>\n",
       "      <td>0.0</td>\n",
       "      <td>...</td>\n",
       "      <td>0.0</td>\n",
       "      <td>0.0</td>\n",
       "      <td>0.0</td>\n",
       "      <td>0.0</td>\n",
       "      <td>0.0</td>\n",
       "      <td>0.0</td>\n",
       "      <td>1.0</td>\n",
       "      <td>0.0</td>\n",
       "      <td>0.0</td>\n",
       "      <td>0.0</td>\n",
       "    </tr>\n",
       "  </tbody>\n",
       "</table>\n",
       "<p>7670 rows × 37 columns</p>\n",
       "</div>"
      ],
      "text/plain": [
       "      Item_Weight  Item_Fat_Content  Item_Visibility  Item_MRP  \\\n",
       "2765    11.100000                 2         0.060303  175.8712   \n",
       "696     12.600000                 1         0.007450  186.7556   \n",
       "5047    19.100000                 4         0.025867  147.6418   \n",
       "4850    11.600000                 2         0.144604  240.8222   \n",
       "1544     5.465000                 2         0.048487  131.2626   \n",
       "...           ...               ...              ...       ...   \n",
       "7161    12.857645                 1         0.032610   37.4822   \n",
       "2707     8.935000                 1         0.040410   52.9298   \n",
       "6400    16.350000                 1         0.034393   50.8324   \n",
       "1688    12.857645                 2         0.121044   59.4220   \n",
       "5994     9.695000                 1         0.190711  159.1604   \n",
       "\n",
       "      Outlet_Establishment_Year  Outlet_Size  Outlet_Location_Type  Dairy  \\\n",
       "2765                       1998            1                     2    0.0   \n",
       "696                        1987            0                     2    0.0   \n",
       "5047                       2004            2                     1    0.0   \n",
       "4850                       2009            1                     2    0.0   \n",
       "1544                       1987            0                     2    1.0   \n",
       "...                         ...          ...                   ...    ...   \n",
       "7161                       1985            1                     2    0.0   \n",
       "2707                       2007            1                     1    0.0   \n",
       "6400                       1998            1                     2    0.0   \n",
       "1688                       1985            1                     2    1.0   \n",
       "5994                       1998            1                     2    0.0   \n",
       "\n",
       "      Soft Drinks  Meat  ...  OUT027  OUT045  OUT017  OUT046  OUT035  OUT019  \\\n",
       "2765          0.0   0.0  ...     0.0     0.0     0.0     0.0     0.0     0.0   \n",
       "696           0.0   0.0  ...     0.0     0.0     0.0     0.0     0.0     0.0   \n",
       "5047          0.0   0.0  ...     0.0     0.0     1.0     0.0     0.0     0.0   \n",
       "4850          0.0   0.0  ...     0.0     0.0     0.0     0.0     0.0     0.0   \n",
       "1544          0.0   0.0  ...     0.0     0.0     0.0     0.0     0.0     0.0   \n",
       "...           ...   ...  ...     ...     ...     ...     ...     ...     ...   \n",
       "7161          0.0   0.0  ...     0.0     1.0     0.0     0.0     0.0     0.0   \n",
       "2707          0.0   0.0  ...     0.0     0.0     0.0     0.0     0.0     0.0   \n",
       "6400          0.0   0.0  ...     0.0     0.0     0.0     0.0     0.0     0.0   \n",
       "1688          0.0   0.0  ...     0.0     1.0     0.0     0.0     0.0     0.0   \n",
       "5994          0.0   0.0  ...     0.0     0.0     0.0     0.0     0.0     0.0   \n",
       "\n",
       "      Supermarket Type1  Supermarket Type2  Grocery Store  Supermarket Type3  \n",
       "2765                1.0                0.0            0.0                0.0  \n",
       "696                 0.0                1.0            0.0                0.0  \n",
       "5047                0.0                1.0            0.0                0.0  \n",
       "4850                0.0                0.0            1.0                0.0  \n",
       "1544                0.0                1.0            0.0                0.0  \n",
       "...                 ...                ...            ...                ...  \n",
       "7161                0.0                0.0            0.0                1.0  \n",
       "2707                0.0                1.0            0.0                0.0  \n",
       "6400                1.0                0.0            0.0                0.0  \n",
       "1688                0.0                0.0            0.0                1.0  \n",
       "5994                1.0                0.0            0.0                0.0  \n",
       "\n",
       "[7670 rows x 37 columns]"
      ]
     },
     "execution_count": 60,
     "metadata": {},
     "output_type": "execute_result"
    }
   ],
   "source": [
    "x_train\n"
   ]
  },
  {
   "cell_type": "code",
   "execution_count": 61,
   "id": "336a8461",
   "metadata": {},
   "outputs": [
    {
     "data": {
      "text/html": [
       "<div>\n",
       "<style scoped>\n",
       "    .dataframe tbody tr th:only-of-type {\n",
       "        vertical-align: middle;\n",
       "    }\n",
       "\n",
       "    .dataframe tbody tr th {\n",
       "        vertical-align: top;\n",
       "    }\n",
       "\n",
       "    .dataframe thead th {\n",
       "        text-align: right;\n",
       "    }\n",
       "</style>\n",
       "<table border=\"1\" class=\"dataframe\">\n",
       "  <thead>\n",
       "    <tr style=\"text-align: right;\">\n",
       "      <th></th>\n",
       "      <th>Item_Weight</th>\n",
       "      <th>Item_Fat_Content</th>\n",
       "      <th>Item_Visibility</th>\n",
       "      <th>Item_MRP</th>\n",
       "      <th>Outlet_Establishment_Year</th>\n",
       "      <th>Outlet_Size</th>\n",
       "      <th>Outlet_Location_Type</th>\n",
       "      <th>Dairy</th>\n",
       "      <th>Soft Drinks</th>\n",
       "      <th>Meat</th>\n",
       "      <th>...</th>\n",
       "      <th>OUT027</th>\n",
       "      <th>OUT045</th>\n",
       "      <th>OUT017</th>\n",
       "      <th>OUT046</th>\n",
       "      <th>OUT035</th>\n",
       "      <th>OUT019</th>\n",
       "      <th>Supermarket Type1</th>\n",
       "      <th>Supermarket Type2</th>\n",
       "      <th>Grocery Store</th>\n",
       "      <th>Supermarket Type3</th>\n",
       "    </tr>\n",
       "  </thead>\n",
       "  <tbody>\n",
       "    <tr>\n",
       "      <th>4258</th>\n",
       "      <td>19.500000</td>\n",
       "      <td>0</td>\n",
       "      <td>0.082484</td>\n",
       "      <td>179.2002</td>\n",
       "      <td>1987</td>\n",
       "      <td>0</td>\n",
       "      <td>2</td>\n",
       "      <td>0.0</td>\n",
       "      <td>0.0</td>\n",
       "      <td>0.0</td>\n",
       "      <td>...</td>\n",
       "      <td>0.0</td>\n",
       "      <td>0.0</td>\n",
       "      <td>0.0</td>\n",
       "      <td>0.0</td>\n",
       "      <td>0.0</td>\n",
       "      <td>0.0</td>\n",
       "      <td>0.0</td>\n",
       "      <td>1.0</td>\n",
       "      <td>0.0</td>\n",
       "      <td>0.0</td>\n",
       "    </tr>\n",
       "    <tr>\n",
       "      <th>2574</th>\n",
       "      <td>12.350000</td>\n",
       "      <td>1</td>\n",
       "      <td>0.093279</td>\n",
       "      <td>118.7124</td>\n",
       "      <td>2004</td>\n",
       "      <td>2</td>\n",
       "      <td>1</td>\n",
       "      <td>0.0</td>\n",
       "      <td>0.0</td>\n",
       "      <td>0.0</td>\n",
       "      <td>...</td>\n",
       "      <td>0.0</td>\n",
       "      <td>0.0</td>\n",
       "      <td>1.0</td>\n",
       "      <td>0.0</td>\n",
       "      <td>0.0</td>\n",
       "      <td>0.0</td>\n",
       "      <td>0.0</td>\n",
       "      <td>1.0</td>\n",
       "      <td>0.0</td>\n",
       "      <td>0.0</td>\n",
       "    </tr>\n",
       "    <tr>\n",
       "      <th>517</th>\n",
       "      <td>9.800000</td>\n",
       "      <td>1</td>\n",
       "      <td>0.013898</td>\n",
       "      <td>46.5060</td>\n",
       "      <td>2009</td>\n",
       "      <td>1</td>\n",
       "      <td>2</td>\n",
       "      <td>0.0</td>\n",
       "      <td>0.0</td>\n",
       "      <td>0.0</td>\n",
       "      <td>...</td>\n",
       "      <td>0.0</td>\n",
       "      <td>0.0</td>\n",
       "      <td>0.0</td>\n",
       "      <td>0.0</td>\n",
       "      <td>0.0</td>\n",
       "      <td>0.0</td>\n",
       "      <td>0.0</td>\n",
       "      <td>0.0</td>\n",
       "      <td>1.0</td>\n",
       "      <td>0.0</td>\n",
       "    </tr>\n",
       "    <tr>\n",
       "      <th>3004</th>\n",
       "      <td>18.250000</td>\n",
       "      <td>1</td>\n",
       "      <td>0.054455</td>\n",
       "      <td>142.0154</td>\n",
       "      <td>2009</td>\n",
       "      <td>1</td>\n",
       "      <td>2</td>\n",
       "      <td>0.0</td>\n",
       "      <td>0.0</td>\n",
       "      <td>0.0</td>\n",
       "      <td>...</td>\n",
       "      <td>0.0</td>\n",
       "      <td>0.0</td>\n",
       "      <td>0.0</td>\n",
       "      <td>0.0</td>\n",
       "      <td>0.0</td>\n",
       "      <td>0.0</td>\n",
       "      <td>0.0</td>\n",
       "      <td>0.0</td>\n",
       "      <td>1.0</td>\n",
       "      <td>0.0</td>\n",
       "    </tr>\n",
       "    <tr>\n",
       "      <th>2159</th>\n",
       "      <td>18.250000</td>\n",
       "      <td>1</td>\n",
       "      <td>0.100844</td>\n",
       "      <td>166.3526</td>\n",
       "      <td>1998</td>\n",
       "      <td>1</td>\n",
       "      <td>2</td>\n",
       "      <td>0.0</td>\n",
       "      <td>0.0</td>\n",
       "      <td>0.0</td>\n",
       "      <td>...</td>\n",
       "      <td>0.0</td>\n",
       "      <td>0.0</td>\n",
       "      <td>0.0</td>\n",
       "      <td>0.0</td>\n",
       "      <td>0.0</td>\n",
       "      <td>0.0</td>\n",
       "      <td>1.0</td>\n",
       "      <td>0.0</td>\n",
       "      <td>0.0</td>\n",
       "      <td>0.0</td>\n",
       "    </tr>\n",
       "    <tr>\n",
       "      <th>...</th>\n",
       "      <td>...</td>\n",
       "      <td>...</td>\n",
       "      <td>...</td>\n",
       "      <td>...</td>\n",
       "      <td>...</td>\n",
       "      <td>...</td>\n",
       "      <td>...</td>\n",
       "      <td>...</td>\n",
       "      <td>...</td>\n",
       "      <td>...</td>\n",
       "      <td>...</td>\n",
       "      <td>...</td>\n",
       "      <td>...</td>\n",
       "      <td>...</td>\n",
       "      <td>...</td>\n",
       "      <td>...</td>\n",
       "      <td>...</td>\n",
       "      <td>...</td>\n",
       "      <td>...</td>\n",
       "      <td>...</td>\n",
       "      <td>...</td>\n",
       "    </tr>\n",
       "    <tr>\n",
       "      <th>231</th>\n",
       "      <td>12.857645</td>\n",
       "      <td>2</td>\n",
       "      <td>0.139561</td>\n",
       "      <td>170.4764</td>\n",
       "      <td>1985</td>\n",
       "      <td>1</td>\n",
       "      <td>2</td>\n",
       "      <td>0.0</td>\n",
       "      <td>0.0</td>\n",
       "      <td>0.0</td>\n",
       "      <td>...</td>\n",
       "      <td>0.0</td>\n",
       "      <td>1.0</td>\n",
       "      <td>0.0</td>\n",
       "      <td>0.0</td>\n",
       "      <td>0.0</td>\n",
       "      <td>0.0</td>\n",
       "      <td>0.0</td>\n",
       "      <td>0.0</td>\n",
       "      <td>0.0</td>\n",
       "      <td>1.0</td>\n",
       "    </tr>\n",
       "    <tr>\n",
       "      <th>8016</th>\n",
       "      <td>12.857645</td>\n",
       "      <td>1</td>\n",
       "      <td>0.018276</td>\n",
       "      <td>115.2808</td>\n",
       "      <td>1985</td>\n",
       "      <td>2</td>\n",
       "      <td>0</td>\n",
       "      <td>0.0</td>\n",
       "      <td>0.0</td>\n",
       "      <td>0.0</td>\n",
       "      <td>...</td>\n",
       "      <td>1.0</td>\n",
       "      <td>0.0</td>\n",
       "      <td>0.0</td>\n",
       "      <td>0.0</td>\n",
       "      <td>0.0</td>\n",
       "      <td>0.0</td>\n",
       "      <td>1.0</td>\n",
       "      <td>0.0</td>\n",
       "      <td>0.0</td>\n",
       "      <td>0.0</td>\n",
       "    </tr>\n",
       "    <tr>\n",
       "      <th>6677</th>\n",
       "      <td>18.000000</td>\n",
       "      <td>1</td>\n",
       "      <td>0.039011</td>\n",
       "      <td>147.7418</td>\n",
       "      <td>1997</td>\n",
       "      <td>2</td>\n",
       "      <td>0</td>\n",
       "      <td>0.0</td>\n",
       "      <td>0.0</td>\n",
       "      <td>0.0</td>\n",
       "      <td>...</td>\n",
       "      <td>0.0</td>\n",
       "      <td>0.0</td>\n",
       "      <td>0.0</td>\n",
       "      <td>0.0</td>\n",
       "      <td>1.0</td>\n",
       "      <td>0.0</td>\n",
       "      <td>0.0</td>\n",
       "      <td>1.0</td>\n",
       "      <td>0.0</td>\n",
       "      <td>0.0</td>\n",
       "    </tr>\n",
       "    <tr>\n",
       "      <th>7928</th>\n",
       "      <td>20.200000</td>\n",
       "      <td>2</td>\n",
       "      <td>0.060045</td>\n",
       "      <td>128.3678</td>\n",
       "      <td>2009</td>\n",
       "      <td>1</td>\n",
       "      <td>2</td>\n",
       "      <td>0.0</td>\n",
       "      <td>0.0</td>\n",
       "      <td>0.0</td>\n",
       "      <td>...</td>\n",
       "      <td>0.0</td>\n",
       "      <td>0.0</td>\n",
       "      <td>0.0</td>\n",
       "      <td>0.0</td>\n",
       "      <td>0.0</td>\n",
       "      <td>0.0</td>\n",
       "      <td>0.0</td>\n",
       "      <td>0.0</td>\n",
       "      <td>1.0</td>\n",
       "      <td>0.0</td>\n",
       "    </tr>\n",
       "    <tr>\n",
       "      <th>3077</th>\n",
       "      <td>4.590000</td>\n",
       "      <td>1</td>\n",
       "      <td>0.070767</td>\n",
       "      <td>111.9860</td>\n",
       "      <td>2004</td>\n",
       "      <td>2</td>\n",
       "      <td>1</td>\n",
       "      <td>0.0</td>\n",
       "      <td>0.0</td>\n",
       "      <td>0.0</td>\n",
       "      <td>...</td>\n",
       "      <td>0.0</td>\n",
       "      <td>0.0</td>\n",
       "      <td>1.0</td>\n",
       "      <td>0.0</td>\n",
       "      <td>0.0</td>\n",
       "      <td>0.0</td>\n",
       "      <td>0.0</td>\n",
       "      <td>1.0</td>\n",
       "      <td>0.0</td>\n",
       "      <td>0.0</td>\n",
       "    </tr>\n",
       "  </tbody>\n",
       "</table>\n",
       "<p>853 rows × 37 columns</p>\n",
       "</div>"
      ],
      "text/plain": [
       "      Item_Weight  Item_Fat_Content  Item_Visibility  Item_MRP  \\\n",
       "4258    19.500000                 0         0.082484  179.2002   \n",
       "2574    12.350000                 1         0.093279  118.7124   \n",
       "517      9.800000                 1         0.013898   46.5060   \n",
       "3004    18.250000                 1         0.054455  142.0154   \n",
       "2159    18.250000                 1         0.100844  166.3526   \n",
       "...           ...               ...              ...       ...   \n",
       "231     12.857645                 2         0.139561  170.4764   \n",
       "8016    12.857645                 1         0.018276  115.2808   \n",
       "6677    18.000000                 1         0.039011  147.7418   \n",
       "7928    20.200000                 2         0.060045  128.3678   \n",
       "3077     4.590000                 1         0.070767  111.9860   \n",
       "\n",
       "      Outlet_Establishment_Year  Outlet_Size  Outlet_Location_Type  Dairy  \\\n",
       "4258                       1987            0                     2    0.0   \n",
       "2574                       2004            2                     1    0.0   \n",
       "517                        2009            1                     2    0.0   \n",
       "3004                       2009            1                     2    0.0   \n",
       "2159                       1998            1                     2    0.0   \n",
       "...                         ...          ...                   ...    ...   \n",
       "231                        1985            1                     2    0.0   \n",
       "8016                       1985            2                     0    0.0   \n",
       "6677                       1997            2                     0    0.0   \n",
       "7928                       2009            1                     2    0.0   \n",
       "3077                       2004            2                     1    0.0   \n",
       "\n",
       "      Soft Drinks  Meat  ...  OUT027  OUT045  OUT017  OUT046  OUT035  OUT019  \\\n",
       "4258          0.0   0.0  ...     0.0     0.0     0.0     0.0     0.0     0.0   \n",
       "2574          0.0   0.0  ...     0.0     0.0     1.0     0.0     0.0     0.0   \n",
       "517           0.0   0.0  ...     0.0     0.0     0.0     0.0     0.0     0.0   \n",
       "3004          0.0   0.0  ...     0.0     0.0     0.0     0.0     0.0     0.0   \n",
       "2159          0.0   0.0  ...     0.0     0.0     0.0     0.0     0.0     0.0   \n",
       "...           ...   ...  ...     ...     ...     ...     ...     ...     ...   \n",
       "231           0.0   0.0  ...     0.0     1.0     0.0     0.0     0.0     0.0   \n",
       "8016          0.0   0.0  ...     1.0     0.0     0.0     0.0     0.0     0.0   \n",
       "6677          0.0   0.0  ...     0.0     0.0     0.0     0.0     1.0     0.0   \n",
       "7928          0.0   0.0  ...     0.0     0.0     0.0     0.0     0.0     0.0   \n",
       "3077          0.0   0.0  ...     0.0     0.0     1.0     0.0     0.0     0.0   \n",
       "\n",
       "      Supermarket Type1  Supermarket Type2  Grocery Store  Supermarket Type3  \n",
       "4258                0.0                1.0            0.0                0.0  \n",
       "2574                0.0                1.0            0.0                0.0  \n",
       "517                 0.0                0.0            1.0                0.0  \n",
       "3004                0.0                0.0            1.0                0.0  \n",
       "2159                1.0                0.0            0.0                0.0  \n",
       "...                 ...                ...            ...                ...  \n",
       "231                 0.0                0.0            0.0                1.0  \n",
       "8016                1.0                0.0            0.0                0.0  \n",
       "6677                0.0                1.0            0.0                0.0  \n",
       "7928                0.0                0.0            1.0                0.0  \n",
       "3077                0.0                1.0            0.0                0.0  \n",
       "\n",
       "[853 rows x 37 columns]"
      ]
     },
     "execution_count": 61,
     "metadata": {},
     "output_type": "execute_result"
    }
   ],
   "source": [
    "x_test"
   ]
  },
  {
   "cell_type": "code",
   "execution_count": 62,
   "id": "b49ff066",
   "metadata": {},
   "outputs": [
    {
     "data": {
      "text/plain": [
       "array([[0.38969932, 0.5       , 0.30769972, ..., 0.        , 0.        ,\n",
       "        0.        ],\n",
       "       [0.47901161, 0.25      , 0.03801559, ..., 1.        , 0.        ,\n",
       "        0.        ],\n",
       "       [0.86603156, 1.        , 0.13198995, ..., 1.        , 0.        ,\n",
       "        0.        ],\n",
       "       ...,\n",
       "       [0.70229235, 0.25      , 0.17549357, ..., 0.        , 0.        ,\n",
       "        0.        ],\n",
       "       [0.4943522 , 0.5       , 0.61763607, ..., 0.        , 0.        ,\n",
       "        1.        ],\n",
       "       [0.30604347, 0.25      , 0.97312079, ..., 0.        , 0.        ,\n",
       "        0.        ]])"
      ]
     },
     "execution_count": 62,
     "metadata": {},
     "output_type": "execute_result"
    }
   ],
   "source": [
    "x_train_scaled\n"
   ]
  },
  {
   "cell_type": "code",
   "execution_count": 63,
   "id": "832472f1",
   "metadata": {},
   "outputs": [],
   "source": [
    "# converting to data frame bcz its in array format\n",
    "x_train_scaled = pd.DataFrame(x_train_scaled, columns=x_train.columns)\n",
    "x_test_scaled = pd.DataFrame(x_test_scaled, columns=x_test.columns)"
   ]
  },
  {
   "cell_type": "code",
   "execution_count": 64,
   "id": "efcb6309",
   "metadata": {
    "scrolled": true
   },
   "outputs": [
    {
     "data": {
      "text/html": [
       "<div>\n",
       "<style scoped>\n",
       "    .dataframe tbody tr th:only-of-type {\n",
       "        vertical-align: middle;\n",
       "    }\n",
       "\n",
       "    .dataframe tbody tr th {\n",
       "        vertical-align: top;\n",
       "    }\n",
       "\n",
       "    .dataframe thead th {\n",
       "        text-align: right;\n",
       "    }\n",
       "</style>\n",
       "<table border=\"1\" class=\"dataframe\">\n",
       "  <thead>\n",
       "    <tr style=\"text-align: right;\">\n",
       "      <th></th>\n",
       "      <th>Item_Weight</th>\n",
       "      <th>Item_Fat_Content</th>\n",
       "      <th>Item_Visibility</th>\n",
       "      <th>Item_MRP</th>\n",
       "      <th>Outlet_Establishment_Year</th>\n",
       "      <th>Outlet_Size</th>\n",
       "      <th>Outlet_Location_Type</th>\n",
       "      <th>Dairy</th>\n",
       "      <th>Soft Drinks</th>\n",
       "      <th>Meat</th>\n",
       "      <th>...</th>\n",
       "      <th>OUT027</th>\n",
       "      <th>OUT045</th>\n",
       "      <th>OUT017</th>\n",
       "      <th>OUT046</th>\n",
       "      <th>OUT035</th>\n",
       "      <th>OUT019</th>\n",
       "      <th>Supermarket Type1</th>\n",
       "      <th>Supermarket Type2</th>\n",
       "      <th>Grocery Store</th>\n",
       "      <th>Supermarket Type3</th>\n",
       "    </tr>\n",
       "  </thead>\n",
       "  <tbody>\n",
       "    <tr>\n",
       "      <th>count</th>\n",
       "      <td>7670.0</td>\n",
       "      <td>7670.0</td>\n",
       "      <td>7670.0</td>\n",
       "      <td>7670.0</td>\n",
       "      <td>7670.0</td>\n",
       "      <td>7670.0</td>\n",
       "      <td>7670.0</td>\n",
       "      <td>7670.0</td>\n",
       "      <td>7670.0</td>\n",
       "      <td>7670.0</td>\n",
       "      <td>...</td>\n",
       "      <td>7670.0</td>\n",
       "      <td>7670.0</td>\n",
       "      <td>7670.0</td>\n",
       "      <td>7670.0</td>\n",
       "      <td>7670.0</td>\n",
       "      <td>7670.0</td>\n",
       "      <td>7670.0</td>\n",
       "      <td>7670.0</td>\n",
       "      <td>7670.0</td>\n",
       "      <td>7670.0</td>\n",
       "    </tr>\n",
       "    <tr>\n",
       "      <th>mean</th>\n",
       "      <td>12.9</td>\n",
       "      <td>1.4</td>\n",
       "      <td>0.1</td>\n",
       "      <td>141.0</td>\n",
       "      <td>1997.8</td>\n",
       "      <td>1.2</td>\n",
       "      <td>1.1</td>\n",
       "      <td>0.1</td>\n",
       "      <td>0.0</td>\n",
       "      <td>0.0</td>\n",
       "      <td>...</td>\n",
       "      <td>0.1</td>\n",
       "      <td>0.1</td>\n",
       "      <td>0.1</td>\n",
       "      <td>0.1</td>\n",
       "      <td>0.1</td>\n",
       "      <td>0.1</td>\n",
       "      <td>0.1</td>\n",
       "      <td>0.7</td>\n",
       "      <td>0.1</td>\n",
       "      <td>0.1</td>\n",
       "    </tr>\n",
       "    <tr>\n",
       "      <th>std</th>\n",
       "      <td>4.2</td>\n",
       "      <td>0.6</td>\n",
       "      <td>0.0</td>\n",
       "      <td>62.2</td>\n",
       "      <td>8.4</td>\n",
       "      <td>0.6</td>\n",
       "      <td>0.8</td>\n",
       "      <td>0.3</td>\n",
       "      <td>0.2</td>\n",
       "      <td>0.1</td>\n",
       "      <td>...</td>\n",
       "      <td>0.2</td>\n",
       "      <td>0.3</td>\n",
       "      <td>0.3</td>\n",
       "      <td>0.3</td>\n",
       "      <td>0.3</td>\n",
       "      <td>0.3</td>\n",
       "      <td>0.3</td>\n",
       "      <td>0.5</td>\n",
       "      <td>0.3</td>\n",
       "      <td>0.3</td>\n",
       "    </tr>\n",
       "    <tr>\n",
       "      <th>min</th>\n",
       "      <td>4.6</td>\n",
       "      <td>0.0</td>\n",
       "      <td>0.0</td>\n",
       "      <td>31.3</td>\n",
       "      <td>1985.0</td>\n",
       "      <td>0.0</td>\n",
       "      <td>0.0</td>\n",
       "      <td>0.0</td>\n",
       "      <td>0.0</td>\n",
       "      <td>0.0</td>\n",
       "      <td>...</td>\n",
       "      <td>0.0</td>\n",
       "      <td>0.0</td>\n",
       "      <td>0.0</td>\n",
       "      <td>0.0</td>\n",
       "      <td>0.0</td>\n",
       "      <td>0.0</td>\n",
       "      <td>0.0</td>\n",
       "      <td>0.0</td>\n",
       "      <td>0.0</td>\n",
       "      <td>0.0</td>\n",
       "    </tr>\n",
       "    <tr>\n",
       "      <th>25%</th>\n",
       "      <td>9.3</td>\n",
       "      <td>1.0</td>\n",
       "      <td>0.0</td>\n",
       "      <td>93.8</td>\n",
       "      <td>1987.0</td>\n",
       "      <td>1.0</td>\n",
       "      <td>0.0</td>\n",
       "      <td>0.0</td>\n",
       "      <td>0.0</td>\n",
       "      <td>0.0</td>\n",
       "      <td>...</td>\n",
       "      <td>0.0</td>\n",
       "      <td>0.0</td>\n",
       "      <td>0.0</td>\n",
       "      <td>0.0</td>\n",
       "      <td>0.0</td>\n",
       "      <td>0.0</td>\n",
       "      <td>0.0</td>\n",
       "      <td>0.0</td>\n",
       "      <td>0.0</td>\n",
       "      <td>0.0</td>\n",
       "    </tr>\n",
       "    <tr>\n",
       "      <th>50%</th>\n",
       "      <td>12.9</td>\n",
       "      <td>1.0</td>\n",
       "      <td>0.1</td>\n",
       "      <td>143.1</td>\n",
       "      <td>1999.0</td>\n",
       "      <td>1.0</td>\n",
       "      <td>1.0</td>\n",
       "      <td>0.0</td>\n",
       "      <td>0.0</td>\n",
       "      <td>0.0</td>\n",
       "      <td>...</td>\n",
       "      <td>0.0</td>\n",
       "      <td>0.0</td>\n",
       "      <td>0.0</td>\n",
       "      <td>0.0</td>\n",
       "      <td>0.0</td>\n",
       "      <td>0.0</td>\n",
       "      <td>0.0</td>\n",
       "      <td>1.0</td>\n",
       "      <td>0.0</td>\n",
       "      <td>0.0</td>\n",
       "    </tr>\n",
       "    <tr>\n",
       "      <th>75%</th>\n",
       "      <td>16.0</td>\n",
       "      <td>2.0</td>\n",
       "      <td>0.1</td>\n",
       "      <td>185.9</td>\n",
       "      <td>2004.0</td>\n",
       "      <td>2.0</td>\n",
       "      <td>2.0</td>\n",
       "      <td>0.0</td>\n",
       "      <td>0.0</td>\n",
       "      <td>0.0</td>\n",
       "      <td>...</td>\n",
       "      <td>0.0</td>\n",
       "      <td>0.0</td>\n",
       "      <td>0.0</td>\n",
       "      <td>0.0</td>\n",
       "      <td>0.0</td>\n",
       "      <td>0.0</td>\n",
       "      <td>0.0</td>\n",
       "      <td>1.0</td>\n",
       "      <td>0.0</td>\n",
       "      <td>0.0</td>\n",
       "    </tr>\n",
       "    <tr>\n",
       "      <th>max</th>\n",
       "      <td>21.4</td>\n",
       "      <td>4.0</td>\n",
       "      <td>0.2</td>\n",
       "      <td>266.9</td>\n",
       "      <td>2009.0</td>\n",
       "      <td>2.0</td>\n",
       "      <td>2.0</td>\n",
       "      <td>1.0</td>\n",
       "      <td>1.0</td>\n",
       "      <td>1.0</td>\n",
       "      <td>...</td>\n",
       "      <td>1.0</td>\n",
       "      <td>1.0</td>\n",
       "      <td>1.0</td>\n",
       "      <td>1.0</td>\n",
       "      <td>1.0</td>\n",
       "      <td>1.0</td>\n",
       "      <td>1.0</td>\n",
       "      <td>1.0</td>\n",
       "      <td>1.0</td>\n",
       "      <td>1.0</td>\n",
       "    </tr>\n",
       "  </tbody>\n",
       "</table>\n",
       "<p>8 rows × 37 columns</p>\n",
       "</div>"
      ],
      "text/plain": [
       "       Item_Weight  Item_Fat_Content  Item_Visibility  Item_MRP  \\\n",
       "count       7670.0            7670.0           7670.0    7670.0   \n",
       "mean          12.9               1.4              0.1     141.0   \n",
       "std            4.2               0.6              0.0      62.2   \n",
       "min            4.6               0.0              0.0      31.3   \n",
       "25%            9.3               1.0              0.0      93.8   \n",
       "50%           12.9               1.0              0.1     143.1   \n",
       "75%           16.0               2.0              0.1     185.9   \n",
       "max           21.4               4.0              0.2     266.9   \n",
       "\n",
       "       Outlet_Establishment_Year  Outlet_Size  Outlet_Location_Type   Dairy  \\\n",
       "count                     7670.0       7670.0                7670.0  7670.0   \n",
       "mean                      1997.8          1.2                   1.1     0.1   \n",
       "std                          8.4          0.6                   0.8     0.3   \n",
       "min                       1985.0          0.0                   0.0     0.0   \n",
       "25%                       1987.0          1.0                   0.0     0.0   \n",
       "50%                       1999.0          1.0                   1.0     0.0   \n",
       "75%                       2004.0          2.0                   2.0     0.0   \n",
       "max                       2009.0          2.0                   2.0     1.0   \n",
       "\n",
       "       Soft Drinks    Meat  ...  OUT027  OUT045  OUT017  OUT046  OUT035  \\\n",
       "count       7670.0  7670.0  ...  7670.0  7670.0  7670.0  7670.0  7670.0   \n",
       "mean           0.0     0.0  ...     0.1     0.1     0.1     0.1     0.1   \n",
       "std            0.2     0.1  ...     0.2     0.3     0.3     0.3     0.3   \n",
       "min            0.0     0.0  ...     0.0     0.0     0.0     0.0     0.0   \n",
       "25%            0.0     0.0  ...     0.0     0.0     0.0     0.0     0.0   \n",
       "50%            0.0     0.0  ...     0.0     0.0     0.0     0.0     0.0   \n",
       "75%            0.0     0.0  ...     0.0     0.0     0.0     0.0     0.0   \n",
       "max            1.0     1.0  ...     1.0     1.0     1.0     1.0     1.0   \n",
       "\n",
       "       OUT019  Supermarket Type1  Supermarket Type2  Grocery Store  \\\n",
       "count  7670.0             7670.0             7670.0         7670.0   \n",
       "mean      0.1                0.1                0.7            0.1   \n",
       "std       0.3                0.3                0.5            0.3   \n",
       "min       0.0                0.0                0.0            0.0   \n",
       "25%       0.0                0.0                0.0            0.0   \n",
       "50%       0.0                0.0                1.0            0.0   \n",
       "75%       0.0                0.0                1.0            0.0   \n",
       "max       1.0                1.0                1.0            1.0   \n",
       "\n",
       "       Supermarket Type3  \n",
       "count             7670.0  \n",
       "mean                 0.1  \n",
       "std                  0.3  \n",
       "min                  0.0  \n",
       "25%                  0.0  \n",
       "50%                  0.0  \n",
       "75%                  0.0  \n",
       "max                  1.0  \n",
       "\n",
       "[8 rows x 37 columns]"
      ]
     },
     "execution_count": 64,
     "metadata": {},
     "output_type": "execute_result"
    }
   ],
   "source": [
    "np.round(x_train.describe(), 1)"
   ]
  },
  {
   "cell_type": "code",
   "execution_count": 65,
   "id": "ad0401e2",
   "metadata": {
    "scrolled": true
   },
   "outputs": [
    {
     "data": {
      "text/html": [
       "<div>\n",
       "<style scoped>\n",
       "    .dataframe tbody tr th:only-of-type {\n",
       "        vertical-align: middle;\n",
       "    }\n",
       "\n",
       "    .dataframe tbody tr th {\n",
       "        vertical-align: top;\n",
       "    }\n",
       "\n",
       "    .dataframe thead th {\n",
       "        text-align: right;\n",
       "    }\n",
       "</style>\n",
       "<table border=\"1\" class=\"dataframe\">\n",
       "  <thead>\n",
       "    <tr style=\"text-align: right;\">\n",
       "      <th></th>\n",
       "      <th>Item_Weight</th>\n",
       "      <th>Item_Fat_Content</th>\n",
       "      <th>Item_Visibility</th>\n",
       "      <th>Item_MRP</th>\n",
       "      <th>Outlet_Establishment_Year</th>\n",
       "      <th>Outlet_Size</th>\n",
       "      <th>Outlet_Location_Type</th>\n",
       "      <th>Dairy</th>\n",
       "      <th>Soft Drinks</th>\n",
       "      <th>Meat</th>\n",
       "      <th>...</th>\n",
       "      <th>OUT027</th>\n",
       "      <th>OUT045</th>\n",
       "      <th>OUT017</th>\n",
       "      <th>OUT046</th>\n",
       "      <th>OUT035</th>\n",
       "      <th>OUT019</th>\n",
       "      <th>Supermarket Type1</th>\n",
       "      <th>Supermarket Type2</th>\n",
       "      <th>Grocery Store</th>\n",
       "      <th>Supermarket Type3</th>\n",
       "    </tr>\n",
       "  </thead>\n",
       "  <tbody>\n",
       "    <tr>\n",
       "      <th>count</th>\n",
       "      <td>7670.0</td>\n",
       "      <td>7670.0</td>\n",
       "      <td>7670.0</td>\n",
       "      <td>7670.0</td>\n",
       "      <td>7670.0</td>\n",
       "      <td>7670.0</td>\n",
       "      <td>7670.0</td>\n",
       "      <td>7670.0</td>\n",
       "      <td>7670.0</td>\n",
       "      <td>7670.0</td>\n",
       "      <td>...</td>\n",
       "      <td>7670.0</td>\n",
       "      <td>7670.0</td>\n",
       "      <td>7670.0</td>\n",
       "      <td>7670.0</td>\n",
       "      <td>7670.0</td>\n",
       "      <td>7670.0</td>\n",
       "      <td>7670.0</td>\n",
       "      <td>7670.0</td>\n",
       "      <td>7670.0</td>\n",
       "      <td>7670.0</td>\n",
       "    </tr>\n",
       "    <tr>\n",
       "      <th>mean</th>\n",
       "      <td>0.5</td>\n",
       "      <td>0.3</td>\n",
       "      <td>0.3</td>\n",
       "      <td>0.5</td>\n",
       "      <td>0.5</td>\n",
       "      <td>0.6</td>\n",
       "      <td>0.6</td>\n",
       "      <td>0.1</td>\n",
       "      <td>0.0</td>\n",
       "      <td>0.0</td>\n",
       "      <td>...</td>\n",
       "      <td>0.1</td>\n",
       "      <td>0.1</td>\n",
       "      <td>0.1</td>\n",
       "      <td>0.1</td>\n",
       "      <td>0.1</td>\n",
       "      <td>0.1</td>\n",
       "      <td>0.1</td>\n",
       "      <td>0.7</td>\n",
       "      <td>0.1</td>\n",
       "      <td>0.1</td>\n",
       "    </tr>\n",
       "    <tr>\n",
       "      <th>std</th>\n",
       "      <td>0.3</td>\n",
       "      <td>0.2</td>\n",
       "      <td>0.2</td>\n",
       "      <td>0.3</td>\n",
       "      <td>0.3</td>\n",
       "      <td>0.3</td>\n",
       "      <td>0.4</td>\n",
       "      <td>0.3</td>\n",
       "      <td>0.2</td>\n",
       "      <td>0.1</td>\n",
       "      <td>...</td>\n",
       "      <td>0.2</td>\n",
       "      <td>0.3</td>\n",
       "      <td>0.3</td>\n",
       "      <td>0.3</td>\n",
       "      <td>0.3</td>\n",
       "      <td>0.3</td>\n",
       "      <td>0.3</td>\n",
       "      <td>0.5</td>\n",
       "      <td>0.3</td>\n",
       "      <td>0.3</td>\n",
       "    </tr>\n",
       "    <tr>\n",
       "      <th>min</th>\n",
       "      <td>0.0</td>\n",
       "      <td>0.0</td>\n",
       "      <td>0.0</td>\n",
       "      <td>0.0</td>\n",
       "      <td>0.0</td>\n",
       "      <td>0.0</td>\n",
       "      <td>0.0</td>\n",
       "      <td>0.0</td>\n",
       "      <td>0.0</td>\n",
       "      <td>0.0</td>\n",
       "      <td>...</td>\n",
       "      <td>0.0</td>\n",
       "      <td>0.0</td>\n",
       "      <td>0.0</td>\n",
       "      <td>0.0</td>\n",
       "      <td>0.0</td>\n",
       "      <td>0.0</td>\n",
       "      <td>0.0</td>\n",
       "      <td>0.0</td>\n",
       "      <td>0.0</td>\n",
       "      <td>0.0</td>\n",
       "    </tr>\n",
       "    <tr>\n",
       "      <th>25%</th>\n",
       "      <td>0.3</td>\n",
       "      <td>0.2</td>\n",
       "      <td>0.1</td>\n",
       "      <td>0.3</td>\n",
       "      <td>0.1</td>\n",
       "      <td>0.5</td>\n",
       "      <td>0.0</td>\n",
       "      <td>0.0</td>\n",
       "      <td>0.0</td>\n",
       "      <td>0.0</td>\n",
       "      <td>...</td>\n",
       "      <td>0.0</td>\n",
       "      <td>0.0</td>\n",
       "      <td>0.0</td>\n",
       "      <td>0.0</td>\n",
       "      <td>0.0</td>\n",
       "      <td>0.0</td>\n",
       "      <td>0.0</td>\n",
       "      <td>0.0</td>\n",
       "      <td>0.0</td>\n",
       "      <td>0.0</td>\n",
       "    </tr>\n",
       "    <tr>\n",
       "      <th>50%</th>\n",
       "      <td>0.5</td>\n",
       "      <td>0.2</td>\n",
       "      <td>0.3</td>\n",
       "      <td>0.5</td>\n",
       "      <td>0.6</td>\n",
       "      <td>0.5</td>\n",
       "      <td>0.5</td>\n",
       "      <td>0.0</td>\n",
       "      <td>0.0</td>\n",
       "      <td>0.0</td>\n",
       "      <td>...</td>\n",
       "      <td>0.0</td>\n",
       "      <td>0.0</td>\n",
       "      <td>0.0</td>\n",
       "      <td>0.0</td>\n",
       "      <td>0.0</td>\n",
       "      <td>0.0</td>\n",
       "      <td>0.0</td>\n",
       "      <td>1.0</td>\n",
       "      <td>0.0</td>\n",
       "      <td>0.0</td>\n",
       "    </tr>\n",
       "    <tr>\n",
       "      <th>75%</th>\n",
       "      <td>0.7</td>\n",
       "      <td>0.5</td>\n",
       "      <td>0.5</td>\n",
       "      <td>0.7</td>\n",
       "      <td>0.8</td>\n",
       "      <td>1.0</td>\n",
       "      <td>1.0</td>\n",
       "      <td>0.0</td>\n",
       "      <td>0.0</td>\n",
       "      <td>0.0</td>\n",
       "      <td>...</td>\n",
       "      <td>0.0</td>\n",
       "      <td>0.0</td>\n",
       "      <td>0.0</td>\n",
       "      <td>0.0</td>\n",
       "      <td>0.0</td>\n",
       "      <td>0.0</td>\n",
       "      <td>0.0</td>\n",
       "      <td>1.0</td>\n",
       "      <td>0.0</td>\n",
       "      <td>0.0</td>\n",
       "    </tr>\n",
       "    <tr>\n",
       "      <th>max</th>\n",
       "      <td>1.0</td>\n",
       "      <td>1.0</td>\n",
       "      <td>1.0</td>\n",
       "      <td>1.0</td>\n",
       "      <td>1.0</td>\n",
       "      <td>1.0</td>\n",
       "      <td>1.0</td>\n",
       "      <td>1.0</td>\n",
       "      <td>1.0</td>\n",
       "      <td>1.0</td>\n",
       "      <td>...</td>\n",
       "      <td>1.0</td>\n",
       "      <td>1.0</td>\n",
       "      <td>1.0</td>\n",
       "      <td>1.0</td>\n",
       "      <td>1.0</td>\n",
       "      <td>1.0</td>\n",
       "      <td>1.0</td>\n",
       "      <td>1.0</td>\n",
       "      <td>1.0</td>\n",
       "      <td>1.0</td>\n",
       "    </tr>\n",
       "  </tbody>\n",
       "</table>\n",
       "<p>8 rows × 37 columns</p>\n",
       "</div>"
      ],
      "text/plain": [
       "       Item_Weight  Item_Fat_Content  Item_Visibility  Item_MRP  \\\n",
       "count       7670.0            7670.0           7670.0    7670.0   \n",
       "mean           0.5               0.3              0.3       0.5   \n",
       "std            0.3               0.2              0.2       0.3   \n",
       "min            0.0               0.0              0.0       0.0   \n",
       "25%            0.3               0.2              0.1       0.3   \n",
       "50%            0.5               0.2              0.3       0.5   \n",
       "75%            0.7               0.5              0.5       0.7   \n",
       "max            1.0               1.0              1.0       1.0   \n",
       "\n",
       "       Outlet_Establishment_Year  Outlet_Size  Outlet_Location_Type   Dairy  \\\n",
       "count                     7670.0       7670.0                7670.0  7670.0   \n",
       "mean                         0.5          0.6                   0.6     0.1   \n",
       "std                          0.3          0.3                   0.4     0.3   \n",
       "min                          0.0          0.0                   0.0     0.0   \n",
       "25%                          0.1          0.5                   0.0     0.0   \n",
       "50%                          0.6          0.5                   0.5     0.0   \n",
       "75%                          0.8          1.0                   1.0     0.0   \n",
       "max                          1.0          1.0                   1.0     1.0   \n",
       "\n",
       "       Soft Drinks    Meat  ...  OUT027  OUT045  OUT017  OUT046  OUT035  \\\n",
       "count       7670.0  7670.0  ...  7670.0  7670.0  7670.0  7670.0  7670.0   \n",
       "mean           0.0     0.0  ...     0.1     0.1     0.1     0.1     0.1   \n",
       "std            0.2     0.1  ...     0.2     0.3     0.3     0.3     0.3   \n",
       "min            0.0     0.0  ...     0.0     0.0     0.0     0.0     0.0   \n",
       "25%            0.0     0.0  ...     0.0     0.0     0.0     0.0     0.0   \n",
       "50%            0.0     0.0  ...     0.0     0.0     0.0     0.0     0.0   \n",
       "75%            0.0     0.0  ...     0.0     0.0     0.0     0.0     0.0   \n",
       "max            1.0     1.0  ...     1.0     1.0     1.0     1.0     1.0   \n",
       "\n",
       "       OUT019  Supermarket Type1  Supermarket Type2  Grocery Store  \\\n",
       "count  7670.0             7670.0             7670.0         7670.0   \n",
       "mean      0.1                0.1                0.7            0.1   \n",
       "std       0.3                0.3                0.5            0.3   \n",
       "min       0.0                0.0                0.0            0.0   \n",
       "25%       0.0                0.0                0.0            0.0   \n",
       "50%       0.0                0.0                1.0            0.0   \n",
       "75%       0.0                0.0                1.0            0.0   \n",
       "max       1.0                1.0                1.0            1.0   \n",
       "\n",
       "       Supermarket Type3  \n",
       "count             7670.0  \n",
       "mean                 0.1  \n",
       "std                  0.3  \n",
       "min                  0.0  \n",
       "25%                  0.0  \n",
       "50%                  0.0  \n",
       "75%                  0.0  \n",
       "max                  1.0  \n",
       "\n",
       "[8 rows x 37 columns]"
      ]
     },
     "execution_count": 65,
     "metadata": {},
     "output_type": "execute_result"
    }
   ],
   "source": [
    "np.round(x_train_scaled.describe(), 1)"
   ]
  },
  {
   "cell_type": "markdown",
   "id": "8037404b",
   "metadata": {},
   "source": [
    "APPLYING LASSO REGRESSION ALGORITHM ON THE DATASET"
   ]
  },
  {
   "cell_type": "code",
   "execution_count": 66,
   "id": "9562bde0",
   "metadata": {},
   "outputs": [
    {
     "data": {
      "text/html": [
       "<style>#sk-container-id-2 {color: black;background-color: white;}#sk-container-id-2 pre{padding: 0;}#sk-container-id-2 div.sk-toggleable {background-color: white;}#sk-container-id-2 label.sk-toggleable__label {cursor: pointer;display: block;width: 100%;margin-bottom: 0;padding: 0.3em;box-sizing: border-box;text-align: center;}#sk-container-id-2 label.sk-toggleable__label-arrow:before {content: \"▸\";float: left;margin-right: 0.25em;color: #696969;}#sk-container-id-2 label.sk-toggleable__label-arrow:hover:before {color: black;}#sk-container-id-2 div.sk-estimator:hover label.sk-toggleable__label-arrow:before {color: black;}#sk-container-id-2 div.sk-toggleable__content {max-height: 0;max-width: 0;overflow: hidden;text-align: left;background-color: #f0f8ff;}#sk-container-id-2 div.sk-toggleable__content pre {margin: 0.2em;color: black;border-radius: 0.25em;background-color: #f0f8ff;}#sk-container-id-2 input.sk-toggleable__control:checked~div.sk-toggleable__content {max-height: 200px;max-width: 100%;overflow: auto;}#sk-container-id-2 input.sk-toggleable__control:checked~label.sk-toggleable__label-arrow:before {content: \"▾\";}#sk-container-id-2 div.sk-estimator input.sk-toggleable__control:checked~label.sk-toggleable__label {background-color: #d4ebff;}#sk-container-id-2 div.sk-label input.sk-toggleable__control:checked~label.sk-toggleable__label {background-color: #d4ebff;}#sk-container-id-2 input.sk-hidden--visually {border: 0;clip: rect(1px 1px 1px 1px);clip: rect(1px, 1px, 1px, 1px);height: 1px;margin: -1px;overflow: hidden;padding: 0;position: absolute;width: 1px;}#sk-container-id-2 div.sk-estimator {font-family: monospace;background-color: #f0f8ff;border: 1px dotted black;border-radius: 0.25em;box-sizing: border-box;margin-bottom: 0.5em;}#sk-container-id-2 div.sk-estimator:hover {background-color: #d4ebff;}#sk-container-id-2 div.sk-parallel-item::after {content: \"\";width: 100%;border-bottom: 1px solid gray;flex-grow: 1;}#sk-container-id-2 div.sk-label:hover label.sk-toggleable__label {background-color: #d4ebff;}#sk-container-id-2 div.sk-serial::before {content: \"\";position: absolute;border-left: 1px solid gray;box-sizing: border-box;top: 0;bottom: 0;left: 50%;z-index: 0;}#sk-container-id-2 div.sk-serial {display: flex;flex-direction: column;align-items: center;background-color: white;padding-right: 0.2em;padding-left: 0.2em;position: relative;}#sk-container-id-2 div.sk-item {position: relative;z-index: 1;}#sk-container-id-2 div.sk-parallel {display: flex;align-items: stretch;justify-content: center;background-color: white;position: relative;}#sk-container-id-2 div.sk-item::before, #sk-container-id-2 div.sk-parallel-item::before {content: \"\";position: absolute;border-left: 1px solid gray;box-sizing: border-box;top: 0;bottom: 0;left: 50%;z-index: -1;}#sk-container-id-2 div.sk-parallel-item {display: flex;flex-direction: column;z-index: 1;position: relative;background-color: white;}#sk-container-id-2 div.sk-parallel-item:first-child::after {align-self: flex-end;width: 50%;}#sk-container-id-2 div.sk-parallel-item:last-child::after {align-self: flex-start;width: 50%;}#sk-container-id-2 div.sk-parallel-item:only-child::after {width: 0;}#sk-container-id-2 div.sk-dashed-wrapped {border: 1px dashed gray;margin: 0 0.4em 0.5em 0.4em;box-sizing: border-box;padding-bottom: 0.4em;background-color: white;}#sk-container-id-2 div.sk-label label {font-family: monospace;font-weight: bold;display: inline-block;line-height: 1.2em;}#sk-container-id-2 div.sk-label-container {text-align: center;}#sk-container-id-2 div.sk-container {/* jupyter's `normalize.less` sets `[hidden] { display: none; }` but bootstrap.min.css set `[hidden] { display: none !important; }` so we also need the `!important` here to be able to override the default hidden behavior on the sphinx rendered scikit-learn.org. See: https://github.com/scikit-learn/scikit-learn/issues/21755 */display: inline-block !important;position: relative;}#sk-container-id-2 div.sk-text-repr-fallback {display: none;}</style><div id=\"sk-container-id-2\" class=\"sk-top-container\"><div class=\"sk-text-repr-fallback\"><pre>Lasso(alpha=1)</pre><b>In a Jupyter environment, please rerun this cell to show the HTML representation or trust the notebook. <br />On GitHub, the HTML representation is unable to render, please try loading this page with nbviewer.org.</b></div><div class=\"sk-container\" hidden><div class=\"sk-item\"><div class=\"sk-estimator sk-toggleable\"><input class=\"sk-toggleable__control sk-hidden--visually\" id=\"sk-estimator-id-2\" type=\"checkbox\" checked><label for=\"sk-estimator-id-2\" class=\"sk-toggleable__label sk-toggleable__label-arrow\">Lasso</label><div class=\"sk-toggleable__content\"><pre>Lasso(alpha=1)</pre></div></div></div></div></div>"
      ],
      "text/plain": [
       "Lasso(alpha=1)"
      ]
     },
     "execution_count": 66,
     "metadata": {},
     "output_type": "execute_result"
    }
   ],
   "source": [
    "from sklearn.linear_model import Lasso\n",
    "lasso=Lasso(alpha =1)\n",
    "lasso.fit(x_train,y_train)"
   ]
  },
  {
   "cell_type": "code",
   "execution_count": 67,
   "id": "b415a61a",
   "metadata": {},
   "outputs": [],
   "source": [
    "y_pred=lasso.predict(x_test)"
   ]
  },
  {
   "cell_type": "code",
   "execution_count": 68,
   "id": "068bff24",
   "metadata": {},
   "outputs": [
    {
     "data": {
      "text/plain": [
       "(853, 37)"
      ]
     },
     "execution_count": 68,
     "metadata": {},
     "output_type": "execute_result"
    }
   ],
   "source": [
    "x_test.shape"
   ]
  },
  {
   "cell_type": "code",
   "execution_count": 69,
   "id": "cbf50c82",
   "metadata": {},
   "outputs": [
    {
     "data": {
      "text/plain": [
       "(853,)"
      ]
     },
     "execution_count": 69,
     "metadata": {},
     "output_type": "execute_result"
    }
   ],
   "source": [
    "y_pred.shape"
   ]
  },
  {
   "cell_type": "code",
   "execution_count": 70,
   "id": "c8418bd7",
   "metadata": {
    "scrolled": true
   },
   "outputs": [
    {
     "data": {
      "text/plain": [
       "(853,)"
      ]
     },
     "execution_count": 70,
     "metadata": {},
     "output_type": "execute_result"
    }
   ],
   "source": [
    "y_test.shape"
   ]
  },
  {
   "cell_type": "markdown",
   "id": "cb519aa9",
   "metadata": {},
   "source": [
    "TRAINING THE DATASET"
   ]
  },
  {
   "cell_type": "code",
   "execution_count": 71,
   "id": "32e1ada9",
   "metadata": {},
   "outputs": [
    {
     "name": "stdout",
     "output_type": "stream",
     "text": [
      "trained score =  57.193757487225305\n"
     ]
    }
   ],
   "source": [
    "#TRAIN SCORE\n",
    "score=lasso.score(x_train,y_train)*100\n",
    "print(\"trained score = \",score)"
   ]
  },
  {
   "cell_type": "markdown",
   "id": "a89bd974",
   "metadata": {},
   "source": [
    "TESTING THE DATASET"
   ]
  },
  {
   "cell_type": "code",
   "execution_count": 72,
   "id": "fb1b1626",
   "metadata": {},
   "outputs": [
    {
     "name": "stdout",
     "output_type": "stream",
     "text": [
      "test score =  61.60797691549404\n"
     ]
    }
   ],
   "source": [
    "test_score=lasso.score(x_test,y_test)*100\n",
    "print(\"test score = \",test_score)"
   ]
  },
  {
   "cell_type": "markdown",
   "id": "33969fb6",
   "metadata": {},
   "source": [
    "EVALUATING THE MODEL"
   ]
  },
  {
   "cell_type": "code",
   "execution_count": 73,
   "id": "20d1f18a",
   "metadata": {},
   "outputs": [],
   "source": [
    "from sklearn.metrics import r2_score,mean_squared_error,mean_absolute_error"
   ]
  },
  {
   "cell_type": "code",
   "execution_count": 74,
   "id": "e4ad6c3b",
   "metadata": {},
   "outputs": [
    {
     "name": "stdout",
     "output_type": "stream",
     "text": [
      "r2 score =  61.60797691549404\n"
     ]
    }
   ],
   "source": [
    "#R2-SCORE \n",
    "rsq=r2_score(y_test,y_pred)*100\n",
    "print(\"r2 score = \",rsq)"
   ]
  },
  {
   "cell_type": "code",
   "execution_count": 75,
   "id": "24ece164",
   "metadata": {},
   "outputs": [
    {
     "name": "stdout",
     "output_type": "stream",
     "text": [
      "mean absolute error =  797.1195753720698\n"
     ]
    }
   ],
   "source": [
    "#MEAN ABSOLUTE ERROR (MAE)\n",
    "mae=mean_absolute_error(y_test,y_pred)\n",
    "print(\"mean absolute error = \",mae)"
   ]
  },
  {
   "cell_type": "code",
   "execution_count": 76,
   "id": "b5a8a244",
   "metadata": {},
   "outputs": [
    {
     "name": "stdout",
     "output_type": "stream",
     "text": [
      "mean square error =  1109145.3989939883\n"
     ]
    }
   ],
   "source": [
    "#MEAN SQUARE ERROR (MSE)\n",
    "mse=mean_squared_error(y_test,y_pred)\n",
    "print(\"mean square error = \",mse)"
   ]
  },
  {
   "cell_type": "code",
   "execution_count": 77,
   "id": "f5c2f2ea",
   "metadata": {},
   "outputs": [
    {
     "name": "stdout",
     "output_type": "stream",
     "text": [
      "root mean square error =  1053.1597215019137\n"
     ]
    }
   ],
   "source": [
    "import math\n",
    "#MEAN SQUARE ERROR (MSE)\n",
    "rmse=math.sqrt(mean_squared_error(y_test,y_pred))\n",
    "print(\"root mean square error = \",rmse)"
   ]
  },
  {
   "cell_type": "code",
   "execution_count": 78,
   "id": "40da50b4",
   "metadata": {},
   "outputs": [
    {
     "data": {
      "text/html": [
       "<div>\n",
       "<style scoped>\n",
       "    .dataframe tbody tr th:only-of-type {\n",
       "        vertical-align: middle;\n",
       "    }\n",
       "\n",
       "    .dataframe tbody tr th {\n",
       "        vertical-align: top;\n",
       "    }\n",
       "\n",
       "    .dataframe thead th {\n",
       "        text-align: right;\n",
       "    }\n",
       "</style>\n",
       "<table border=\"1\" class=\"dataframe\">\n",
       "  <thead>\n",
       "    <tr style=\"text-align: right;\">\n",
       "      <th></th>\n",
       "      <th>Actual</th>\n",
       "      <th>Predicted</th>\n",
       "      <th>Variance</th>\n",
       "    </tr>\n",
       "  </thead>\n",
       "  <tbody>\n",
       "    <tr>\n",
       "      <th>4258</th>\n",
       "      <td>2865.6032</td>\n",
       "      <td>2806.197409</td>\n",
       "      <td>59.405791</td>\n",
       "    </tr>\n",
       "    <tr>\n",
       "      <th>2574</th>\n",
       "      <td>2607.2728</td>\n",
       "      <td>2058.630497</td>\n",
       "      <td>548.642303</td>\n",
       "    </tr>\n",
       "    <tr>\n",
       "      <th>517</th>\n",
       "      <td>372.8480</td>\n",
       "      <td>578.749229</td>\n",
       "      <td>-205.901229</td>\n",
       "    </tr>\n",
       "    <tr>\n",
       "      <th>3004</th>\n",
       "      <td>850.8924</td>\n",
       "      <td>1987.398070</td>\n",
       "      <td>-1136.505670</td>\n",
       "    </tr>\n",
       "    <tr>\n",
       "      <th>2159</th>\n",
       "      <td>164.4526</td>\n",
       "      <td>730.067079</td>\n",
       "      <td>-565.614479</td>\n",
       "    </tr>\n",
       "    <tr>\n",
       "      <th>...</th>\n",
       "      <td>...</td>\n",
       "      <td>...</td>\n",
       "      <td>...</td>\n",
       "    </tr>\n",
       "    <tr>\n",
       "      <th>231</th>\n",
       "      <td>3435.5280</td>\n",
       "      <td>4104.383134</td>\n",
       "      <td>-668.855134</td>\n",
       "    </tr>\n",
       "    <tr>\n",
       "      <th>8016</th>\n",
       "      <td>117.1808</td>\n",
       "      <td>-9.462529</td>\n",
       "      <td>126.643329</td>\n",
       "    </tr>\n",
       "    <tr>\n",
       "      <th>6677</th>\n",
       "      <td>4119.9704</td>\n",
       "      <td>2338.106479</td>\n",
       "      <td>1781.863921</td>\n",
       "    </tr>\n",
       "    <tr>\n",
       "      <th>7928</th>\n",
       "      <td>1398.8458</td>\n",
       "      <td>1837.865702</td>\n",
       "      <td>-439.019902</td>\n",
       "    </tr>\n",
       "    <tr>\n",
       "      <th>3077</th>\n",
       "      <td>792.3020</td>\n",
       "      <td>1968.230017</td>\n",
       "      <td>-1175.928017</td>\n",
       "    </tr>\n",
       "  </tbody>\n",
       "</table>\n",
       "<p>853 rows × 3 columns</p>\n",
       "</div>"
      ],
      "text/plain": [
       "         Actual    Predicted     Variance\n",
       "4258  2865.6032  2806.197409    59.405791\n",
       "2574  2607.2728  2058.630497   548.642303\n",
       "517    372.8480   578.749229  -205.901229\n",
       "3004   850.8924  1987.398070 -1136.505670\n",
       "2159   164.4526   730.067079  -565.614479\n",
       "...         ...          ...          ...\n",
       "231   3435.5280  4104.383134  -668.855134\n",
       "8016   117.1808    -9.462529   126.643329\n",
       "6677  4119.9704  2338.106479  1781.863921\n",
       "7928  1398.8458  1837.865702  -439.019902\n",
       "3077   792.3020  1968.230017 -1175.928017\n",
       "\n",
       "[853 rows x 3 columns]"
      ]
     },
     "execution_count": 78,
     "metadata": {},
     "output_type": "execute_result"
    }
   ],
   "source": [
    "new_df=pd.DataFrame({'Actual':y_test,'Predicted':y_pred,'Variance':y_test-y_pred})\n",
    "new_df"
   ]
  },
  {
   "cell_type": "code",
   "execution_count": 79,
   "id": "c1164611",
   "metadata": {},
   "outputs": [
    {
     "data": {
      "text/plain": [
       "'C:\\\\Users\\\\vivek\\\\OneDrive\\\\Documents\\\\projects'"
      ]
     },
     "execution_count": 79,
     "metadata": {},
     "output_type": "execute_result"
    }
   ],
   "source": [
    "pwd"
   ]
  },
  {
   "cell_type": "code",
   "execution_count": 80,
   "id": "c571fb08",
   "metadata": {},
   "outputs": [],
   "source": [
    "import pickle"
   ]
  },
  {
   "cell_type": "code",
   "execution_count": 81,
   "id": "35336bbb",
   "metadata": {},
   "outputs": [],
   "source": [
    "final_model=\"LASSO.pkl\""
   ]
  },
  {
   "cell_type": "code",
   "execution_count": 82,
   "id": "081b2ed4",
   "metadata": {},
   "outputs": [],
   "source": [
    "pickle.dump(lasso,open(final_model,'wb'))"
   ]
  },
  {
   "cell_type": "code",
   "execution_count": 83,
   "id": "2b9c2243",
   "metadata": {},
   "outputs": [],
   "source": [
    "loaded_model=pickle.load(open(final_model,'rb'))"
   ]
  },
  {
   "cell_type": "code",
   "execution_count": 84,
   "id": "ea8d8ce5",
   "metadata": {},
   "outputs": [
    {
     "name": "stdout",
     "output_type": "stream",
     "text": [
      "predicted value will be  [ 2806.19740921  2058.63049741   578.74922871  1987.39807011\n",
      "   730.06707895   932.08749533  2002.79130525  2395.48527234\n",
      "  1600.10931471  2020.14363097  1688.01060403  3278.56830328\n",
      "  4138.35527154   672.63209734  3540.12988301  4261.92199416\n",
      "  2002.08959658  2712.12801094  1720.66924608  2526.80486872\n",
      "  2906.88415768  3583.42738688  1843.98095856  2500.57718008\n",
      "  1530.02430417  3667.67673605  2811.16898998  1993.48606566\n",
      "  3987.44724223  3738.55139939  4155.58747429  1078.86925798\n",
      "  1602.104511     866.05309605  1807.80616263  1614.09705592\n",
      "  1417.80760425  1398.93298269  5280.74767057  1097.67383254\n",
      "  1187.7280991   2526.81477739  3951.95109209  2093.33034273\n",
      "  5130.28473838  1496.0139952   1629.05446389  2611.5661608\n",
      "  3945.83870535   953.84358995   860.61665516   564.7025039\n",
      "  1022.76813572  1874.18516383  4247.51876669  1590.30950942\n",
      "  1893.95770382  2654.78047921  2413.44606643  2971.84236008\n",
      "   859.26116359   749.17556218  1952.63913199  1920.69022693\n",
      "  2348.72174105  1187.26685447  1288.61110113  1092.04562969\n",
      "  1965.31794229   406.70532494  1271.52333894  3088.14714174\n",
      "  1985.5766024   2148.98332431   -77.72138434  3117.34766386\n",
      "  2965.32923746  1532.73808114  1671.40686087   649.65140478\n",
      "  2824.6501764   3365.14814165  1030.50861484  2935.10651264\n",
      "  1101.40091933  3987.13696632  4273.83636858   459.59148162\n",
      "  3087.08954569  3171.32656619   806.57777181  3620.47345008\n",
      "  1966.29486365  1634.59557264  2923.52662908  5338.71014424\n",
      "  4032.69675108  1864.24377078  1803.2671415   1696.43523885\n",
      "  2950.57473099  2907.03232478  4812.16832413  3492.36460111\n",
      "  1017.60867012  1608.38008964   916.58970299  1874.68910971\n",
      "  2586.15225104  -155.58040482  2157.83546271  2702.76969652\n",
      "  2900.23519678  2809.03538865  1793.78820411  3545.06248903\n",
      "  3798.71461969  2010.93186713   848.58773859  1731.05973445\n",
      "  1606.5905008    696.84795295  3079.84977802  2025.92493199\n",
      "   843.94980108  1525.58511509  2779.39789984  1070.83149296\n",
      "  2726.64431983  1652.75940825  2558.28508942  2753.53346166\n",
      "  4848.39355418  3751.81404104  2544.04768321  1739.03610449\n",
      "  1973.38885375    47.69243284  3675.35924456  1538.97791964\n",
      " -1173.20653744  2449.60276701  2958.98530122  1776.21496068\n",
      "  2600.38535593  3762.09303452  1056.73772216  2802.69367935\n",
      "  2944.77815464  2817.67763981  3182.26540003  2305.53944608\n",
      "   809.09725679  2691.81478907  3975.21076184  -713.98433322\n",
      "  -777.50412711  1391.80576689  1472.53484438  -553.41100777\n",
      "  1691.48927118   -54.7303637   1798.64137322  1455.22790262\n",
      "   951.25724931  4054.30773747  2020.54917153  1871.04720175\n",
      "  -945.02940831  1364.46578787  -937.83424877  2083.8852328\n",
      "   893.52234528  3173.05540282  5308.69900521  2788.17643705\n",
      "   348.83777917  1752.73948555  2841.90262635  2732.24039355\n",
      "   614.8555228   2377.92439675  1653.19956566  3332.10041205\n",
      "  1404.4907653   2734.29114792  2608.04268647  1793.58165715\n",
      "  3895.29801795   539.5423438   1923.62767429  2425.56671065\n",
      "  3366.85657317  3035.99251079  2632.70143304  2170.8425518\n",
      "  2640.38258951  2780.50252074  -970.23643212  1976.8112494\n",
      "  2604.23579788  1702.27113104  4630.34476777  4140.06839583\n",
      "   -36.86661973  2854.41173947  2450.07617921  3072.0252173\n",
      "   871.14191606  2860.0237455   3182.00330337  2537.95515138\n",
      "  3774.379037    1391.99067027  2136.54768975  3085.07220431\n",
      "  1651.69996549  1691.3105266   2031.58873806  2220.71087772\n",
      "   707.54601894  2308.39751358  3579.32047614  2678.95149909\n",
      "  1715.29307437   371.03497553  3055.6505814   2725.11989343\n",
      "  4080.76745618  1595.22691732  2996.67152893  2015.70610425\n",
      "  1840.58366244  2407.94948971  2770.29754734  1474.81324082\n",
      "   969.58964595  3017.65482357  2838.65108743  4144.90071394\n",
      "   720.17743038  1429.99831213  1334.17276161  1841.38199038\n",
      "  2960.42803832  1776.7330957   1552.10540013   941.69729235\n",
      "  2843.50488151  3387.4297973   2388.46733074   850.45720402\n",
      "  -755.12009822  1515.33684488  1815.47186292  2425.65505925\n",
      "  1402.46885089  2896.12412443  2536.7438653   1415.1914537\n",
      "  1883.50269315   619.78678063  2759.23691997   778.28527724\n",
      "   707.50803353  2122.82323201  1531.81618899  4813.69237214\n",
      "  1381.37210322  2298.44713159  2444.2135259   2082.64434293\n",
      "  2611.91549674  1179.94353681  2334.68622616  1520.44459881\n",
      "  3085.19459372  1888.12481784  1127.22622472  1852.55500917\n",
      "  -350.87731463  1937.45941974   930.43132665  2447.16235592\n",
      "  3500.10448807   382.97408154  2349.89321542   674.43724477\n",
      "  2972.50895673  3014.02759188   605.94296136  1857.79810941\n",
      "  3507.47309078  2462.68381681  3183.55532129  1453.74708376\n",
      "  3828.04583493   962.52275399  1649.99050533  1714.57916105\n",
      "   758.297796    2760.77880508  1147.51700096  4156.92568182\n",
      "  3828.59429177  2019.12872608  4077.20755507  3165.27484799\n",
      "  1735.8583331   1425.60917921   525.96300861  2611.29302883\n",
      "  1448.79245953   835.41547644  1190.95845279 -1055.80242612\n",
      "  2773.82372351  4072.25732135  4076.76955996  2927.07739435\n",
      "   866.71346583 -1222.83402751  2921.70815234  3114.48239944\n",
      "  1333.13753831   926.53668422  2698.73669221  4840.01567545\n",
      "  2320.53017301  1990.87920106  1656.21658156  1603.19866523\n",
      "  5105.40298166   865.29652514  2041.47995997  3013.0164881\n",
      "  3376.1759144   -110.12380335  3426.34910341   988.48780381\n",
      "  1000.64812383  1664.31144833  2519.65807009  1904.91588865\n",
      "  2052.4989243   1915.90691738   887.73462448  2590.8947077\n",
      "  3557.15525403  3732.13403105  4014.08170594  3120.06775866\n",
      "  2450.62218111  2899.10942983  1407.64163849   909.75836353\n",
      "  2643.76607618  1383.56125965  4979.15177872  2509.31721718\n",
      "  1432.36135811  -381.85459976  2266.80901684  2309.43396374\n",
      "  3023.13004166  1956.43915001  3489.66794295  3937.89271873\n",
      "  -418.46108914  4259.72574813  4182.24753117  3611.26232402\n",
      "  3317.65382245    98.71364252  3716.48664799  2347.4634763\n",
      "  3067.00823215  4059.05956656  2195.46424831  1650.00429982\n",
      "  3724.07010693  2969.86762087  2095.21440636  1760.95100837\n",
      "  2312.65657339  1998.70987229  2373.70472157  1767.58321876\n",
      "  2599.51656227  2259.19275339  5303.39756968  1897.33094822\n",
      "  1661.03690879  4071.23881221   500.27253678  3840.28780448\n",
      "  4605.13879339 -1122.53450175   714.45828504  1323.96405041\n",
      "   437.00220783  1651.60251683  1501.64529678  3903.82990892\n",
      "  1541.24598253  1788.3979796   3158.36247102   680.7819211\n",
      "   839.28752409  2709.58286408 -1219.33282506  2518.64295094\n",
      "  1303.56783058 -1028.56045396  2732.30964024  2890.65681197\n",
      "  2918.84251414   782.23338509  1629.29809206  -492.551018\n",
      "   545.76279089  2123.99973841  3459.01809529  3065.30030827\n",
      "   717.79480257  4104.42845388  3657.92286222  2052.15151742\n",
      "  2511.87500595  1594.34255643  1250.05265618  1923.40183021\n",
      "   924.20470694  3420.68213503  2378.22784476  2140.28652978\n",
      "  4217.47297055  3898.99483051  3199.59594093  2695.11374517\n",
      "  1800.04809655  -960.15153838  1014.73956208   870.98460794\n",
      "  3764.97560052  1738.39590567  3740.94023867   931.67587877\n",
      "   332.33314386  1503.08128665  -183.58711421   935.77026782\n",
      "  2564.42524054   991.96469848  3885.51866947  2308.40935635\n",
      "  1827.96881534   922.4903127   3915.03186716  3644.61054877\n",
      "  1619.98313893  1738.25328947  1324.3690621   1407.68476449\n",
      "  1061.17020385  2314.83126002  2801.50948713  1588.76564373\n",
      "  2659.35443003  2017.33473038  1760.59224605  1157.12343347\n",
      "  2177.39514896  1598.53266519  1957.48104722  2272.02262399\n",
      "  2697.72419444  -133.29808254  2181.33995679  -489.10687701\n",
      "  2278.65214771 -1157.81509126  -932.27025599  3136.98631617\n",
      "  2901.4345962   4275.32179549  3945.74048883  3817.99591644\n",
      " -1032.88454358   960.80941355  1892.7983442   1865.91333742\n",
      "  1780.81477452  3226.59225368   693.83109103  2737.65405783\n",
      "   809.59433237  1143.16228813  2947.83829655  2512.31553863\n",
      "  3762.90655657  1141.77776528  3038.77593155  2079.3741126\n",
      "  3038.09971224  2134.32680415  1141.54062608   831.28779274\n",
      "  4055.79316438   862.68736279  2362.43752866  3727.43235673\n",
      "  2450.66405513  1436.16365173   658.3150054   1894.4148437\n",
      "  1850.84890475  2836.09057843  -564.70916482  2416.37080082\n",
      "  3347.49182326  2928.04702111  3836.48900146  2468.65456716\n",
      "  3790.47263124  2730.78421843  2954.01934867  2642.11533155\n",
      "  2162.98583066  2965.00292682  2856.22149717  1783.24909777\n",
      "   866.68146011  3811.22454629  2707.26364849   843.03932081\n",
      "  1277.66701254  1440.86470155  1308.32861607  4229.27074944\n",
      "  1970.49639762  3265.33344347  3169.57708788  2497.75507264\n",
      "  2736.20061266  -358.33326643  3039.02018033  3981.30797763\n",
      "  1862.60627286  2819.02705287  -279.34039485  2993.30127244\n",
      "  2737.59126078  2922.54875425  3616.88747676  1910.51024303\n",
      "  2667.46358616  2725.46936126  1456.33387136   488.74872017\n",
      "  1552.96230389  2931.8182981   2371.02463962  2063.57435969\n",
      "  1266.16729596  2331.04259654  2428.54446109  2529.9634551\n",
      "  1184.92804902  2270.38129438  1084.93075542  2417.50303471\n",
      "  2976.60189858  3464.10435758  3399.79790523  2688.23231593\n",
      "  2180.14191312  2466.77481346 -1058.47374297  3086.53725383\n",
      "  4053.34526588   838.17124049  3049.04077667  1720.04540065\n",
      "   764.97972775  2121.73204179  4066.28054601  2526.85879408\n",
      "  3911.446536    2806.16024295   950.29322181  2909.49299767\n",
      "   196.65223868  4662.24376031  2924.87712075  3515.98437962\n",
      "  2023.27912355  1647.39725151  2751.30004803  1083.10707538\n",
      "   687.53116011  3439.13042719  2305.79946642  2487.23978851\n",
      "  3510.37875614  3830.91172147  1100.59480956  1671.72616045\n",
      "  1254.01727167  1511.55722599  -738.18283446  2310.93180199\n",
      "  4626.36554388  1385.2686977   1699.09557552  1342.75303884\n",
      "  1673.69347767  4157.00378274 -1102.58695534  1707.23735878\n",
      "  1332.82101818  3038.27787966   601.78654058  1588.17519048\n",
      "   862.85643835  2529.34744192  4124.00693876  2824.23295283\n",
      "  2950.69166823  3242.31605319  5045.02044891   966.23250896\n",
      "  4103.01023868 -1011.57249197  1820.22277403  2912.46809612\n",
      "  2996.31330091  1085.56568071 -1042.72352023  2744.62371594\n",
      "  3883.17081247  2700.47368602  2824.78587852  1567.95495924\n",
      "  4083.05269526  1394.13545685  1761.78410401   798.90657352\n",
      "  3011.36890798  2021.13787135   820.6325088   3986.05534199\n",
      "  3984.68268801  3708.1441525   1856.81117461  1755.8671583\n",
      "   825.00777978  1124.01030983  2402.41582162  3120.90688255\n",
      "   365.38651298   967.16333892  3095.57032212  2085.06729801\n",
      "  1856.15390055  1708.31442235  1404.72297073  3107.52025109\n",
      "   765.38291522  1550.62346683  2420.8781519   4207.07706193\n",
      "  3647.86077206  2832.96858157   900.58925715  3007.12342393\n",
      "   796.3074678   1760.07212447  2691.55342411  3928.90038015\n",
      "  2113.15073898  2118.75806283  1660.86256665  2448.97492747\n",
      "  1531.81528373  -523.85472003    13.2940611   2110.65866018\n",
      "  1974.38074268   892.67733771  4063.44339366  3603.42791526\n",
      "  1959.18151072  3096.00524758  2574.03659137  2995.97631404\n",
      "  1891.26896286  2076.33438879  3303.80685416  1359.41832013\n",
      "  1561.32943768  1963.55777212  2981.60417706  3122.65689448\n",
      "  3239.43187457  1581.63175143  -517.44615887  2393.26385875\n",
      "  1647.48144914   661.26842371  3100.48282488  2654.5394914\n",
      "  2441.17767435  2102.43607236  4326.77068231  2147.98188571\n",
      "  2366.45044812  2313.58270912  2767.79744444  2747.76193813\n",
      "  2118.88936087  2673.28905587   855.29048919  1885.70733942\n",
      "  3107.57677569  3343.3702219     57.54378408  1693.25490744\n",
      "   648.45193832  1964.78277004  1402.81627788  3386.76142615\n",
      "   149.91875622  3206.2326857   2810.00831927  2681.89051249\n",
      "  1589.1470303   3805.18238102  1307.72801086  2246.98176413\n",
      "  2190.18298958  3130.51480281  1019.14997818   877.59249032\n",
      "  5364.15754284   594.61508828  2095.92269917  2142.70377298\n",
      "  2376.47656455  3862.46209591  3137.98055844  4138.86120782\n",
      "  2860.63567439  1273.8533995   2828.16926315  2885.72274988\n",
      "  1413.100623    1743.21522939  1902.38261693  3976.2516374\n",
      "  3606.87877351  4352.34006478  1360.34262793  2631.81072432\n",
      "  1529.70724617  3463.88904713  2047.27827532  2877.58153876\n",
      "  2383.45549238  1381.30267181  3865.7410045   2416.2642753\n",
      "  1614.73611223  1916.65780369    85.71184011  -386.57998872\n",
      "  2873.97263998  3182.63562414  -539.86164139  1601.73534034\n",
      "  1137.50580049  4363.79257138  3058.08005265  3889.07143932\n",
      "  2679.31297983  2425.78710872  2131.14066483   876.44001432\n",
      "  3803.42692549  3637.88963524   113.85306559  4048.95084922\n",
      "  1513.64665355   864.6577693   1795.25444779  1857.69045632\n",
      "   876.82891359   796.50428258  1575.19364553  1642.86373769\n",
      "  1853.46945772  2108.52312548   361.88193169  1700.91906472\n",
      "  2327.00489432  2599.383738    3791.45679937  2197.14303088\n",
      "  4051.52831296  2531.21744813  3996.34885327  3646.04269702\n",
      "  1385.00879666   -38.11595137  2154.41701593  2665.41035165\n",
      "  3125.25801677  1517.45276878  3329.16906118  3792.0482613\n",
      "  3739.63013524  4080.76745618  2124.86177692   992.16323951\n",
      "   876.56683424  -885.68318156  2562.86042939  2263.78906115\n",
      "  1675.15581     1833.88610381  1956.99312905  1786.29035339\n",
      "  2535.2974621    767.37603923  3786.56262797  2491.60479106\n",
      "  2323.01802035  1677.37938398   624.70687404  2739.6627108\n",
      "   632.00077541  3004.63618027  -113.83624241   399.86645384\n",
      "   981.17505131  1718.17938261  1654.13537634  3966.20023482\n",
      "  4104.38313421    -9.462529    2338.10647902  1837.86570232\n",
      "  1968.23001705]\n"
     ]
    }
   ],
   "source": [
    "a=loaded_model.predict(x_test)\n",
    "print(\"predicted value will be \",a)"
   ]
  }
 ],
 "metadata": {
  "kernelspec": {
   "display_name": "Python 3 (ipykernel)",
   "language": "python",
   "name": "python3"
  },
  "language_info": {
   "codemirror_mode": {
    "name": "ipython",
    "version": 3
   },
   "file_extension": ".py",
   "mimetype": "text/x-python",
   "name": "python",
   "nbconvert_exporter": "python",
   "pygments_lexer": "ipython3",
   "version": "3.10.9"
  }
 },
 "nbformat": 4,
 "nbformat_minor": 5
}
